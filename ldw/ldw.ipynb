{
 "cells": [
  {
   "cell_type": "markdown",
   "id": "85e408d2-b40a-424f-b228-a04477a7f110",
   "metadata": {},
   "source": [
    "#### LDW experimental data\n",
    "\n",
    "##### logs\n",
    "\n",
    "5/15/2024 WL: template provided. TODO: write a brief intro to the data discussing the background, and the meaning of the variables."
   ]
  },
  {
   "cell_type": "markdown",
   "id": "75c82b72",
   "metadata": {},
   "source": [
    "Data source: https://users.nber.org/~rdehejia/data/.nswdata2.html\n",
    "\n",
    "Ref. Causal Effects in Nonexperimental Studies: Reevaluating the Evaluation of Training Programs\n",
    "Rajeev H. Dehejia, Sadek Wahba. Journal of the American Statistical Association,1999.\n",
    "\n",
    "This is data on a job training program (the treatment) that was intended to raise\n",
    "future earnings (the outcome).  Total number of examples is $2675$. The income is $\\$1000$ in the year of 1978.\n",
    "\n",
    "\n",
    "\\begin{align*}\n",
    "%\\begin{array}{ll}\n",
    "\\hline \\text { Variable } & \\quad \\text { Description } \\\\\n",
    "\\hline \\text { age } &\\quad  \\text { Age in years } \\\\\n",
    "\\text { educ } &\\quad  \\text { Years of education } \\\\\n",
    "\\text { black } &\\quad  1=\\text { Black; } 0 \\text { otherwise } \\\\\n",
    "\\text { hisp } & \\quad 1=\\text { Hispanic; } 0 \\text { otherwise } \\\\\n",
    "\\text { married } &\\quad  1=\\text { married; } 0 \\text { otherwise } \\\\\n",
    "\\text { nodegr } &\\quad  1=\\text { no degree; } 0 \\text { otherwise } \\\\\n",
    "\\text { re74 } &\\quad  1974 \\text { income}\\\\\n",
    "\\text { re75 } &\\quad  1975 \\text { income}  \\\\\n",
    "\\text { re78 } &\\quad  1978 \\text { income} \\\\\n",
    "\\text { treat } &\\quad  1=\\text { received treatment; } 0 \\text { otherwise } \\\\\n",
    "\\hline\n",
    "%\\end{array}\n",
    "\\end{align*}"
   ]
  },
  {
   "cell_type": "code",
   "execution_count": 4,
   "id": "c238d1d0-b5ec-4a38-a29f-82b2f3e4139f",
   "metadata": {},
   "outputs": [
    {
     "name": "stdout",
     "output_type": "stream",
     "text": [
      "   Intercept  Sales  CompPrice  Income  Advertising  Population  Price  Age  \\\n",
      "0          1   9.50        138      73           11         276    120   42   \n",
      "1          1  11.22        111      48           16         260     83   65   \n",
      "2          1  10.06        113      35           10         269     80   59   \n",
      "3          1   7.40        117     100            4         466     97   55   \n",
      "4          1   4.15        141      64            3         340    128   38   \n",
      "\n",
      "   Education  ShelveLoc_Bad  ShelveLoc_Medium  ShelveLoc_Good  Urban_No  \\\n",
      "0          0            1.0               0.0             0.0       0.0   \n",
      "1          1            0.0               0.0             1.0       0.0   \n",
      "2          1            0.0               1.0             0.0       0.0   \n",
      "3          2            0.0               1.0             0.0       0.0   \n",
      "4          0            1.0               0.0             0.0       1.0   \n",
      "\n",
      "   Urban_Yes  US_No  US_Yes  \n",
      "0        1.0    0.0     1.0  \n",
      "1        1.0    0.0     1.0  \n",
      "2        1.0    0.0     1.0  \n",
      "3        1.0    0.0     1.0  \n",
      "4        0.0    1.0     0.0  \n"
     ]
    }
   ],
   "source": [
    "import pandas as pd\n",
    "import numpy as np\n",
    "import torch\n",
    "import seaborn as sns\n",
    "from matplotlib import pyplot as plt\n",
    "from sklearn.model_selection import train_test_split\n",
    "from sklearn.preprocessing import StandardScaler\n",
    "from torch.utils.data import Dataset, DataLoader\n",
    "\n",
    "import statsmodels.api as sm\n",
    "from statsmodels.stats.outliers_influence \\\n",
    "     import variance_inflation_factor as VIF\n",
    "from statsmodels.stats.anova import anova_lm\n",
    "\n",
    "from data_process import encode_dataframe"
   ]
  },
  {
   "cell_type": "code",
   "execution_count": 5,
   "id": "9056d7ad-1266-4252-8b84-f1031bb55402",
   "metadata": {},
   "outputs": [],
   "source": [
    "raw_data_all = pd.read_csv('./data/exp_LDW.csv').drop([\"u74\", \"u75\"], axis=1)"
   ]
  },
  {
   "cell_type": "code",
   "execution_count": 6,
   "id": "0300d128-ec15-4843-8147-d2f7a89d847f",
   "metadata": {},
   "outputs": [
    {
     "data": {
      "application/vnd.microsoft.datawrangler.viewer.v0+json": {
       "columns": [
        {
         "name": "index",
         "rawType": "int64",
         "type": "integer"
        },
        {
         "name": "T",
         "rawType": "int64",
         "type": "integer"
        },
        {
         "name": "age",
         "rawType": "int64",
         "type": "integer"
        },
        {
         "name": "educ",
         "rawType": "int64",
         "type": "integer"
        },
        {
         "name": "black",
         "rawType": "int64",
         "type": "integer"
        },
        {
         "name": "hisp",
         "rawType": "int64",
         "type": "integer"
        },
        {
         "name": "married",
         "rawType": "int64",
         "type": "integer"
        },
        {
         "name": "nodegr",
         "rawType": "int64",
         "type": "integer"
        },
        {
         "name": "re74",
         "rawType": "float64",
         "type": "float"
        },
        {
         "name": "re75",
         "rawType": "float64",
         "type": "float"
        },
        {
         "name": "re78",
         "rawType": "float64",
         "type": "float"
        }
       ],
       "ref": "a873c6f2-8c88-469c-b3df-3cee232fc361",
       "rows": [
        [
         "0",
         "0",
         "23",
         "10",
         "1",
         "0",
         "0",
         "1",
         "0.0",
         "0.0",
         "0.0"
        ],
        [
         "1",
         "0",
         "26",
         "12",
         "0",
         "0",
         "0",
         "0",
         "0.0",
         "0.0",
         "12383.68"
        ],
        [
         "2",
         "0",
         "22",
         "9",
         "1",
         "0",
         "0",
         "1",
         "0.0",
         "0.0",
         "0.0"
        ],
        [
         "3",
         "0",
         "18",
         "9",
         "1",
         "0",
         "0",
         "1",
         "0.0",
         "0.0",
         "10740.08"
        ],
        [
         "4",
         "0",
         "45",
         "11",
         "1",
         "0",
         "0",
         "1",
         "0.0",
         "0.0",
         "11796.47"
        ]
       ],
       "shape": {
        "columns": 10,
        "rows": 5
       }
      },
      "text/html": [
       "<div>\n",
       "<style scoped>\n",
       "    .dataframe tbody tr th:only-of-type {\n",
       "        vertical-align: middle;\n",
       "    }\n",
       "\n",
       "    .dataframe tbody tr th {\n",
       "        vertical-align: top;\n",
       "    }\n",
       "\n",
       "    .dataframe thead th {\n",
       "        text-align: right;\n",
       "    }\n",
       "</style>\n",
       "<table border=\"1\" class=\"dataframe\">\n",
       "  <thead>\n",
       "    <tr style=\"text-align: right;\">\n",
       "      <th></th>\n",
       "      <th>T</th>\n",
       "      <th>age</th>\n",
       "      <th>educ</th>\n",
       "      <th>black</th>\n",
       "      <th>hisp</th>\n",
       "      <th>married</th>\n",
       "      <th>nodegr</th>\n",
       "      <th>re74</th>\n",
       "      <th>re75</th>\n",
       "      <th>re78</th>\n",
       "    </tr>\n",
       "  </thead>\n",
       "  <tbody>\n",
       "    <tr>\n",
       "      <th>0</th>\n",
       "      <td>0</td>\n",
       "      <td>23</td>\n",
       "      <td>10</td>\n",
       "      <td>1</td>\n",
       "      <td>0</td>\n",
       "      <td>0</td>\n",
       "      <td>1</td>\n",
       "      <td>0.0</td>\n",
       "      <td>0.0</td>\n",
       "      <td>0.00</td>\n",
       "    </tr>\n",
       "    <tr>\n",
       "      <th>1</th>\n",
       "      <td>0</td>\n",
       "      <td>26</td>\n",
       "      <td>12</td>\n",
       "      <td>0</td>\n",
       "      <td>0</td>\n",
       "      <td>0</td>\n",
       "      <td>0</td>\n",
       "      <td>0.0</td>\n",
       "      <td>0.0</td>\n",
       "      <td>12383.68</td>\n",
       "    </tr>\n",
       "    <tr>\n",
       "      <th>2</th>\n",
       "      <td>0</td>\n",
       "      <td>22</td>\n",
       "      <td>9</td>\n",
       "      <td>1</td>\n",
       "      <td>0</td>\n",
       "      <td>0</td>\n",
       "      <td>1</td>\n",
       "      <td>0.0</td>\n",
       "      <td>0.0</td>\n",
       "      <td>0.00</td>\n",
       "    </tr>\n",
       "    <tr>\n",
       "      <th>3</th>\n",
       "      <td>0</td>\n",
       "      <td>18</td>\n",
       "      <td>9</td>\n",
       "      <td>1</td>\n",
       "      <td>0</td>\n",
       "      <td>0</td>\n",
       "      <td>1</td>\n",
       "      <td>0.0</td>\n",
       "      <td>0.0</td>\n",
       "      <td>10740.08</td>\n",
       "    </tr>\n",
       "    <tr>\n",
       "      <th>4</th>\n",
       "      <td>0</td>\n",
       "      <td>45</td>\n",
       "      <td>11</td>\n",
       "      <td>1</td>\n",
       "      <td>0</td>\n",
       "      <td>0</td>\n",
       "      <td>1</td>\n",
       "      <td>0.0</td>\n",
       "      <td>0.0</td>\n",
       "      <td>11796.47</td>\n",
       "    </tr>\n",
       "  </tbody>\n",
       "</table>\n",
       "</div>"
      ],
      "text/plain": [
       "   T  age  educ  black  hisp  married  nodegr  re74  re75      re78\n",
       "0  0   23    10      1     0        0       1   0.0   0.0      0.00\n",
       "1  0   26    12      0     0        0       0   0.0   0.0  12383.68\n",
       "2  0   22     9      1     0        0       1   0.0   0.0      0.00\n",
       "3  0   18     9      1     0        0       1   0.0   0.0  10740.08\n",
       "4  0   45    11      1     0        0       1   0.0   0.0  11796.47"
      ]
     },
     "execution_count": 6,
     "metadata": {},
     "output_type": "execute_result"
    }
   ],
   "source": [
    "raw_data_all.head()"
   ]
  },
  {
   "cell_type": "code",
   "execution_count": 7,
   "id": "f95493e8-e370-4523-9a94-8dae4ead6595",
   "metadata": {},
   "outputs": [
    {
     "name": "stdout",
     "output_type": "stream",
     "text": [
      "                T         age        educ       black       hisp     married  \\\n",
      "count  445.000000  445.000000  445.000000  445.000000  445.00000  445.000000   \n",
      "mean     0.415730   25.370787   10.195506    0.833708    0.08764    0.168539   \n",
      "std      0.493402    7.100282    1.792119    0.372762    0.28309    0.374766   \n",
      "min      0.000000   17.000000    3.000000    0.000000    0.00000    0.000000   \n",
      "25%      0.000000   20.000000    9.000000    1.000000    0.00000    0.000000   \n",
      "50%      0.000000   24.000000   10.000000    1.000000    0.00000    0.000000   \n",
      "75%      1.000000   28.000000   11.000000    1.000000    0.00000    0.000000   \n",
      "max      1.000000   55.000000   16.000000    1.000000    1.00000    1.000000   \n",
      "\n",
      "           nodegr          re74          re75          re78  \n",
      "count  445.000000    445.000000    445.000000    445.000000  \n",
      "mean     0.782022   2102.265311   1377.138368   5300.763699  \n",
      "std      0.413337   5363.582400   3150.960771   6631.491695  \n",
      "min      0.000000      0.000000      0.000000      0.000000  \n",
      "25%      1.000000      0.000000      0.000000      0.000000  \n",
      "50%      1.000000      0.000000      0.000000   3701.812000  \n",
      "75%      1.000000    824.388900   1220.836000   8124.715000  \n",
      "max      1.000000  39570.680000  25142.240000  60307.930000  \n",
      "\n",
      "185 260\n",
      "\n",
      "308 137\n"
     ]
    }
   ],
   "source": [
    "# stats for treatment\n",
    "print(raw_data_all.describe())\n",
    "print()\n",
    "print(sum(raw_data_all[\"T\"] == 1), sum(raw_data_all[\"T\"] == 0))\n",
    "print()\n",
    "print(sum(raw_data_all[\"re78\"] > 0), sum(raw_data_all[\"re78\"] == 0))\n",
    "\n",
    "# about 7% enrolled in the training program\n",
    "# about 13% unemployed in 1978"
   ]
  },
  {
   "cell_type": "markdown",
   "id": "7b0dffe5-22ae-4f59-97e7-8ab2fcc5dcce",
   "metadata": {
    "tags": []
   },
   "source": [
    "### Task: predict re78 using all other variables"
   ]
  },
  {
   "cell_type": "code",
   "execution_count": 8,
   "id": "338834c8-c5ec-40b1-9190-7f3abbbd9166",
   "metadata": {},
   "outputs": [],
   "source": [
    "#Split data into training features and labels\n",
    "X, y = raw_data_all.loc[:, raw_data_all.columns != 're78'], raw_data_all['re78']\n",
    "\n",
    "# np.bincount(X['T']) # array([260, 185])"
   ]
  },
  {
   "cell_type": "code",
   "execution_count": 9,
   "id": "0eb0235f",
   "metadata": {},
   "outputs": [
    {
     "name": "stdout",
     "output_type": "stream",
     "text": [
      "                 T          age        educ      black       hisp     married  \\\n",
      "T         0.243446     0.185596    0.062683   0.003973  -0.011742    0.008604   \n",
      "age       0.185596    50.414010    0.292211   0.230717  -0.181218    0.558989   \n",
      "educ      0.062683     0.292211    3.211691   0.030332  -0.073479    0.054813   \n",
      "black     0.003973     0.230717    0.030332   0.138951  -0.073231    0.003315   \n",
      "hisp     -0.011742    -0.181218   -0.073479  -0.073231   0.080140    0.000962   \n",
      "married   0.008604     0.558989    0.054813   0.003315   0.000962    0.140449   \n",
      "nodegr   -0.030798    -0.331157   -0.470802   0.006463   0.010138   -0.005972   \n",
      "re74     -2.788176   -46.795663  395.918982  10.887865 -43.250703  286.480956   \n",
      "re75     64.548727  1177.380020  146.001711 -66.231788  36.398415  316.371643   \n",
      "\n",
      "             nodegr          re74          re75  \n",
      "T         -0.030798 -2.788176e+00  6.454873e+01  \n",
      "age       -0.331157 -4.679566e+01  1.177380e+03  \n",
      "educ      -0.470802  3.959190e+02  1.460017e+02  \n",
      "black      0.006463  1.088787e+01 -6.623179e+01  \n",
      "hisp       0.010138 -4.325070e+01  3.639841e+01  \n",
      "married   -0.005972  2.864810e+02  3.163716e+02  \n",
      "nodegr     0.170847 -1.503724e+02  2.707306e+01  \n",
      "re74    -150.372370  2.876802e+07  1.107318e+07  \n",
      "re75      27.073060  1.107318e+07  9.928554e+06  \n"
     ]
    }
   ],
   "source": [
    "# Compute the covariance matrix\n",
    "covariance_matrix = X.cov()\n",
    "print(covariance_matrix)"
   ]
  },
  {
   "cell_type": "code",
   "execution_count": 10,
   "id": "28b90fd2",
   "metadata": {},
   "outputs": [
    {
     "name": "stdout",
     "output_type": "stream",
     "text": [
      "                            OLS Regression Results                            \n",
      "==============================================================================\n",
      "Dep. Variable:                   re78   R-squared:                       0.055\n",
      "Model:                            OLS   Adj. R-squared:                  0.035\n",
      "Method:                 Least Squares   F-statistic:                     2.804\n",
      "Date:                Wed, 23 Jul 2025   Prob (F-statistic):            0.00329\n",
      "Time:                        11:22:41   Log-Likelihood:                -4534.2\n",
      "No. Observations:                 445   AIC:                             9088.\n",
      "Df Residuals:                     435   BIC:                             9129.\n",
      "Df Model:                           9                                         \n",
      "Covariance Type:            nonrobust                                         \n",
      "==============================================================================\n",
      "                 coef    std err          t      P>|t|      [0.025      0.975]\n",
      "------------------------------------------------------------------------------\n",
      "Intercept    785.0615   3374.969      0.233      0.816   -5848.211    7418.334\n",
      "T           1676.3426    638.682      2.625      0.009     421.056    2931.629\n",
      "age           55.3167     45.284      1.222      0.223     -33.686     144.319\n",
      "educ         395.7343    227.415      1.740      0.083     -51.234     842.703\n",
      "black      -2159.5221   1169.036     -1.847      0.065   -4457.183     138.139\n",
      "hisp         164.0327   1549.457      0.106      0.916   -2881.320    3209.386\n",
      "married     -138.7252    879.728     -0.158      0.875   -1867.771    1590.321\n",
      "nodegr       -70.6807   1004.387     -0.070      0.944   -2044.736    1903.374\n",
      "re74           0.0821      0.077      1.061      0.289      -0.070       0.234\n",
      "re75           0.0528      0.135      0.389      0.697      -0.214       0.319\n",
      "==============================================================================\n",
      "Omnibus:                      284.809   Durbin-Watson:                   2.061\n",
      "Prob(Omnibus):                  0.000   Jarque-Bera (JB):             3770.859\n",
      "Skew:                           2.545   Prob(JB):                         0.00\n",
      "Kurtosis:                      16.321   Cond. No.                     7.19e+04\n",
      "==============================================================================\n",
      "\n",
      "Notes:\n",
      "[1] Standard Errors assume that the covariance matrix of the errors is correctly specified.\n",
      "[2] The condition number is large, 7.19e+04. This might indicate that there are\n",
      "strong multicollinearity or other numerical problems.\n"
     ]
    }
   ],
   "source": [
    "# X_dat = encode_dataframe(X, add_intercept=True)\n",
    "X_dat = X.copy() \n",
    "X_dat.insert(0, \"Intercept\", 1)\n",
    "\n",
    "model = sm.OLS(y, X_dat)  # no intercept as default for sm.OLS\n",
    "results = model.fit()\n",
    "print(results.summary())"
   ]
  },
  {
   "cell_type": "code",
   "execution_count": 11,
   "id": "e06b6a6a",
   "metadata": {},
   "outputs": [
    {
     "name": "stdout",
     "output_type": "stream",
     "text": [
      "Coefficients:\n",
      " Intercept     785.061481\n",
      "T            1676.342644\n",
      "age            55.316678\n",
      "educ          395.734297\n",
      "black       -2159.522141\n",
      "hisp          164.032694\n",
      "married      -138.725225\n",
      "nodegr        -70.680676\n",
      "re74            0.082141\n",
      "re75            0.052764\n",
      "dtype: float64\n",
      "\n",
      "R-squared: 0.05482998592227473\n",
      "\n",
      "Standard errors:\n",
      " Intercept    3374.968701\n",
      "T             638.682016\n",
      "age            45.283943\n",
      "educ          227.414794\n",
      "black        1169.035822\n",
      "hisp         1549.457027\n",
      "married       879.727925\n",
      "nodegr       1004.387097\n",
      "re74            0.077422\n",
      "re75            0.135476\n",
      "dtype: float64\n",
      "\n",
      "Confidence intervals:\n",
      "                      0            1\n",
      "Intercept -5848.211450  7418.334411\n",
      "T           421.056297  2931.628990\n",
      "age         -33.685852   144.319207\n",
      "educ        -51.234114   842.702708\n",
      "black     -4457.183055   138.138773\n",
      "hisp      -2881.320395  3209.385783\n",
      "married   -1867.771017  1590.320567\n",
      "nodegr    -2044.735647  1903.374295\n",
      "re74         -0.070026     0.234308\n",
      "re75         -0.213504     0.319033\n",
      "\n",
      "p-values:\n",
      " Intercept    0.816171\n",
      "T            0.008978\n",
      "age          0.222539\n",
      "educ         0.082541\n",
      "black        0.065387\n",
      "hisp         0.915739\n",
      "married      0.874773\n",
      "nodegr       0.943930\n",
      "re74         0.289297\n",
      "re75         0.697117\n",
      "dtype: float64\n",
      "\n"
     ]
    }
   ],
   "source": [
    "# coefficients:\n",
    "print(\"Coefficients:\\n\", results.params)\n",
    "print()\n",
    "# R-squared value:\n",
    "print(\"R-squared:\", results.rsquared)\n",
    "print()\n",
    "# standard errors:\n",
    "print(\"Standard errors:\\n\", results.bse)\n",
    "print()\n",
    "# confidence intervals for the model parameters:\n",
    "conf_intervals = results.conf_int()\n",
    "print(\"Confidence intervals:\\n\", conf_intervals)\n",
    "print()\n",
    "# p-values of the parameters:\n",
    "p_values = results.pvalues\n",
    "print(\"p-values:\\n\", p_values)\n",
    "print()\n",
    "\n",
    "# Predicted values:\n",
    "# predictions = results.predict(X)\n",
    "# print(\"Predicted values:\\n\", predictions)\n",
    "# print()\n",
    "# Residuals:\n",
    "# residuals = results.resid\n",
    "# print(\"Residuals:\\n\", residuals)\n"
   ]
  },
  {
   "cell_type": "code",
   "execution_count": 12,
   "id": "83dfad6a",
   "metadata": {},
   "outputs": [
    {
     "name": "stdout",
     "output_type": "stream",
     "text": [
      "   Feature        VIF\n",
      "0        T   1.739837\n",
      "1      age  12.318756\n",
      "2     educ  14.709019\n",
      "3    black  11.135342\n",
      "4     hisp   2.004444\n",
      "5  married   1.350245\n",
      "6   nodegr   4.361578\n",
      "7     re74   2.059179\n",
      "8     re75   2.261413\n"
     ]
    }
   ],
   "source": [
    "# calculate VIF for each feature in the array\n",
    "# create a new DataFrame to store VIF values and feature names\n",
    "vif_data = pd.DataFrame()\n",
    "vif_data[\"Feature\"] = X.columns\n",
    "\n",
    "# compute VIF for each feature using list comprehension\n",
    "vif_data[\"VIF\"] = [VIF(X.values, i) for i, _ in enumerate(X.columns)]\n",
    "\n",
    "print(vif_data)"
   ]
  },
  {
   "cell_type": "code",
   "execution_count": 13,
   "id": "56c07d30",
   "metadata": {},
   "outputs": [
    {
     "name": "stdout",
     "output_type": "stream",
     "text": [
      "     Feature         VIF\n",
      "0  Intercept  119.473999\n",
      "1          T    1.039270\n",
      "2        age    1.081924\n",
      "3       educ    1.738314\n",
      "4      black    1.987354\n",
      "5       hisp    2.013555\n",
      "6    married    1.137558\n",
      "7     nodegr    1.803712\n",
      "8       re74    1.804644\n",
      "9       re75    1.907069\n"
     ]
    }
   ],
   "source": [
    "# calculate VIF for each feature in the array\n",
    "# rreate a new DataFrame to store VIF values and feature names\n",
    "vif_data = pd.DataFrame()\n",
    "vif_data[\"Feature\"] = X_dat.columns\n",
    "\n",
    "# compute VIF for each feature using list comprehension\n",
    "vif_data[\"VIF\"] = [VIF(X_dat.values, i) for i, _ in enumerate(X_dat.columns)]\n",
    "\n",
    "print(vif_data)"
   ]
  }
 ],
 "metadata": {
  "kernelspec": {
   "display_name": "myenv",
   "language": "python",
   "name": "python3"
  },
  "language_info": {
   "codemirror_mode": {
    "name": "ipython",
    "version": 3
   },
   "file_extension": ".py",
   "mimetype": "text/x-python",
   "name": "python",
   "nbconvert_exporter": "python",
   "pygments_lexer": "ipython3",
   "version": "3.8.20"
  }
 },
 "nbformat": 4,
 "nbformat_minor": 5
}
