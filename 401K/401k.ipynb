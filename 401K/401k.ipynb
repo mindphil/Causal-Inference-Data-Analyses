{
 "cells": [
  {
   "attachments": {},
   "cell_type": "markdown",
   "id": "3ff75bb7-f70f-4a78-9d7b-ed388eb8587f",
   "metadata": {},
   "source": [
    "#### SIPP1991 401K data\n",
    "\n",
    "#### logs\n",
    "\n",
    "5/15/2024 WL: template provided. TODO: write a brief intro to the data discussing the background, and the meaning of the variables; do a bit data summary and regression along the similar lines of ldw data.\n"
   ]
  },
  {
   "cell_type": "markdown",
   "id": "452400c4",
   "metadata": {},
   "source": [
    "**Semiparametic instrumental variable estimation of treatment response models, page 231-263 (Abadie, 2003).**\n",
    "\n",
    "**Background:**\n",
    "\n",
    "The challenge of estimating treatment effects when there's selection bias and unobserved confounding. Traditional methods fail when treatment assignment is endogenous - meaning people who receive treatment differ systematically from those who don't in ways that affect the outcome, and these differences aren't fully captured by observed variables.\n",
    "\n",
    "Abadie developed semiparametric instrumental variable estimators that can identify and estimate treatment effects under weaker assumptions than traditional parametric IV methods. The key innovation is using instrumental variables in a more flexible, semiparametric framework that doesn't require strong functional form assumptions about the relationship between variables.\n",
    "\n",
    "**Data Sample: Survey of Income and Program Participation (SIPP) of 1991**\n",
    "\n",
    "Do 401(k) plans increase total household savings, or do they just shift money from other accounts?\n",
    "\n",
    "Simply comparing 401(k) participants to non-participants is misleading because:\n",
    "- People who choose to participate might already be better savers\n",
    "- They might work at better companies\n",
    "- They might have different preferences\n",
    "\n",
    "Abadie's solution was to use whether the *employer offers* a 401(k) as an instrument for whether the employee *participates*  \n",
    "\n",
    "The variables in the data set include:\n",
    "\\begin{align*}\n",
    "%\\begin{array}{ll}\n",
    "\\hline \\text { Variable } & \\quad \\text { Description } \\\\\n",
    "\\hline \\text { net tfa } &\\quad  \\text { Net total financial assets } \\\\\n",
    "\\text { e401 } &\\quad  \\text { = 1 if employers offers 401(k) } \\\\\n",
    "\\text { p401 } &\\quad  \\text { = 1 if the employee participates 401(k) } \\\\\n",
    "\\text { age } & \\quad \\text { age } \\\\\n",
    "\\text { inc } &\\quad  \\text { income } \\\\\n",
    "\\text { fsize } &\\quad  \\text { family size } \\\\\n",
    "\\text { educ } &\\quad  \\text { years of education }\\\\\n",
    "\\text { db } &\\quad  \\text { = 1 if indivudual has defined benefit pension } \\\\\n",
    "\\text { marr } &\\quad \\text { = 1 if married } \\\\\n",
    "\\text { twoearn } &\\quad \\text { = 1 if two-earner household } \\\\\n",
    "\\text { pira } &\\quad \\text { = 1 if individual participates in IRA } \\\\\n",
    "\\text { hown } &\\quad \\text { = 1 if home owner } \\\\\n",
    "\\hline\n",
    "%\\end{array}\n",
    "\\end{align*}"
   ]
  },
  {
   "cell_type": "code",
   "execution_count": 2,
   "id": "3b4a2014-452a-4b9c-8193-56d2be8f0fb8",
   "metadata": {
    "tags": []
   },
   "outputs": [
    {
     "name": "stdout",
     "output_type": "stream",
     "text": [
      "Current working directory: c:\\Users\\philh\\Projects\\One\\401K\n"
     ]
    }
   ],
   "source": [
    "import io\n",
    "import os\n",
    "import numpy as np\n",
    "import matplotlib.pyplot as plt\n",
    "import matplotlib.ticker as mticker\n",
    "import pandas as pd\n",
    "import seaborn as sns\n",
    "import requests\n",
    "from data_process import read\n",
    "\n",
    "# Print the current working directory\n",
    "print(\"Current working directory: {0}\".format(os.getcwd()))"
   ]
  },
  {
   "cell_type": "code",
   "execution_count": 3,
   "id": "f73471e6",
   "metadata": {},
   "outputs": [],
   "source": [
    "sns.set()\n",
    "colors = sns.color_palette()\n",
    "plt.rcParams['figure.figsize'] = 7., 5\n",
    "sns.set(font_scale=1)\n",
    "sns.set_style('whitegrid', {'axes.spines.top': True,\n",
    "                            'axes.spines.bottom': True,\n",
    "                            'axes.spines.left': True,\n",
    "                            'axes.spines.right': True})"
   ]
  },
  {
   "cell_type": "code",
   "execution_count": 5,
   "id": "c11ecefc",
   "metadata": {},
   "outputs": [
    {
     "data": {
      "text/html": [
       "<div>\n",
       "<style scoped>\n",
       "    .dataframe tbody tr th:only-of-type {\n",
       "        vertical-align: middle;\n",
       "    }\n",
       "\n",
       "    .dataframe tbody tr th {\n",
       "        vertical-align: top;\n",
       "    }\n",
       "\n",
       "    .dataframe thead th {\n",
       "        text-align: right;\n",
       "    }\n",
       "</style>\n",
       "<table border=\"1\" class=\"dataframe\">\n",
       "  <thead>\n",
       "    <tr style=\"text-align: right;\">\n",
       "      <th></th>\n",
       "      <th>nifa</th>\n",
       "      <th>net_tfa</th>\n",
       "      <th>tw</th>\n",
       "      <th>age</th>\n",
       "      <th>inc</th>\n",
       "      <th>fsize</th>\n",
       "      <th>educ</th>\n",
       "      <th>db</th>\n",
       "      <th>marr</th>\n",
       "      <th>twoearn</th>\n",
       "      <th>e401</th>\n",
       "      <th>p401</th>\n",
       "      <th>pira</th>\n",
       "      <th>hown</th>\n",
       "    </tr>\n",
       "  </thead>\n",
       "  <tbody>\n",
       "    <tr>\n",
       "      <th>count</th>\n",
       "      <td>9.915000e+03</td>\n",
       "      <td>9.915000e+03</td>\n",
       "      <td>9.915000e+03</td>\n",
       "      <td>9915.000000</td>\n",
       "      <td>9915.000000</td>\n",
       "      <td>9915.000000</td>\n",
       "      <td>9915.000000</td>\n",
       "      <td>9915.000000</td>\n",
       "      <td>9915.000000</td>\n",
       "      <td>9915.000000</td>\n",
       "      <td>9915.000000</td>\n",
       "      <td>9915.000000</td>\n",
       "      <td>9915.000000</td>\n",
       "      <td>9915.000000</td>\n",
       "    </tr>\n",
       "    <tr>\n",
       "      <th>mean</th>\n",
       "      <td>1.392864e+04</td>\n",
       "      <td>1.805153e+04</td>\n",
       "      <td>6.381685e+04</td>\n",
       "      <td>41.060212</td>\n",
       "      <td>37200.623197</td>\n",
       "      <td>2.865860</td>\n",
       "      <td>13.206253</td>\n",
       "      <td>0.271004</td>\n",
       "      <td>0.604841</td>\n",
       "      <td>0.380837</td>\n",
       "      <td>0.371357</td>\n",
       "      <td>0.261624</td>\n",
       "      <td>0.242158</td>\n",
       "      <td>0.635199</td>\n",
       "    </tr>\n",
       "    <tr>\n",
       "      <th>std</th>\n",
       "      <td>5.490488e+04</td>\n",
       "      <td>6.352250e+04</td>\n",
       "      <td>1.115297e+05</td>\n",
       "      <td>10.344505</td>\n",
       "      <td>24774.288006</td>\n",
       "      <td>1.538937</td>\n",
       "      <td>2.810382</td>\n",
       "      <td>0.444500</td>\n",
       "      <td>0.488909</td>\n",
       "      <td>0.485617</td>\n",
       "      <td>0.483192</td>\n",
       "      <td>0.439541</td>\n",
       "      <td>0.428411</td>\n",
       "      <td>0.481399</td>\n",
       "    </tr>\n",
       "    <tr>\n",
       "      <th>min</th>\n",
       "      <td>0.000000e+00</td>\n",
       "      <td>-5.023020e+05</td>\n",
       "      <td>-5.023020e+05</td>\n",
       "      <td>25.000000</td>\n",
       "      <td>-2652.000000</td>\n",
       "      <td>1.000000</td>\n",
       "      <td>1.000000</td>\n",
       "      <td>0.000000</td>\n",
       "      <td>0.000000</td>\n",
       "      <td>0.000000</td>\n",
       "      <td>0.000000</td>\n",
       "      <td>0.000000</td>\n",
       "      <td>0.000000</td>\n",
       "      <td>0.000000</td>\n",
       "    </tr>\n",
       "    <tr>\n",
       "      <th>25%</th>\n",
       "      <td>2.000000e+02</td>\n",
       "      <td>-5.000000e+02</td>\n",
       "      <td>3.291500e+03</td>\n",
       "      <td>32.000000</td>\n",
       "      <td>19413.000000</td>\n",
       "      <td>2.000000</td>\n",
       "      <td>12.000000</td>\n",
       "      <td>0.000000</td>\n",
       "      <td>0.000000</td>\n",
       "      <td>0.000000</td>\n",
       "      <td>0.000000</td>\n",
       "      <td>0.000000</td>\n",
       "      <td>0.000000</td>\n",
       "      <td>0.000000</td>\n",
       "    </tr>\n",
       "    <tr>\n",
       "      <th>50%</th>\n",
       "      <td>1.635000e+03</td>\n",
       "      <td>1.499000e+03</td>\n",
       "      <td>2.510000e+04</td>\n",
       "      <td>40.000000</td>\n",
       "      <td>31476.000000</td>\n",
       "      <td>3.000000</td>\n",
       "      <td>12.000000</td>\n",
       "      <td>0.000000</td>\n",
       "      <td>1.000000</td>\n",
       "      <td>0.000000</td>\n",
       "      <td>0.000000</td>\n",
       "      <td>0.000000</td>\n",
       "      <td>0.000000</td>\n",
       "      <td>1.000000</td>\n",
       "    </tr>\n",
       "    <tr>\n",
       "      <th>75%</th>\n",
       "      <td>8.765500e+03</td>\n",
       "      <td>1.652450e+04</td>\n",
       "      <td>8.148750e+04</td>\n",
       "      <td>48.000000</td>\n",
       "      <td>48583.500000</td>\n",
       "      <td>4.000000</td>\n",
       "      <td>16.000000</td>\n",
       "      <td>1.000000</td>\n",
       "      <td>1.000000</td>\n",
       "      <td>1.000000</td>\n",
       "      <td>1.000000</td>\n",
       "      <td>1.000000</td>\n",
       "      <td>0.000000</td>\n",
       "      <td>1.000000</td>\n",
       "    </tr>\n",
       "    <tr>\n",
       "      <th>max</th>\n",
       "      <td>1.430298e+06</td>\n",
       "      <td>1.536798e+06</td>\n",
       "      <td>2.029910e+06</td>\n",
       "      <td>64.000000</td>\n",
       "      <td>242124.000000</td>\n",
       "      <td>13.000000</td>\n",
       "      <td>18.000000</td>\n",
       "      <td>1.000000</td>\n",
       "      <td>1.000000</td>\n",
       "      <td>1.000000</td>\n",
       "      <td>1.000000</td>\n",
       "      <td>1.000000</td>\n",
       "      <td>1.000000</td>\n",
       "      <td>1.000000</td>\n",
       "    </tr>\n",
       "  </tbody>\n",
       "</table>\n",
       "</div>"
      ],
      "text/plain": [
       "               nifa       net_tfa            tw          age            inc  \\\n",
       "count  9.915000e+03  9.915000e+03  9.915000e+03  9915.000000    9915.000000   \n",
       "mean   1.392864e+04  1.805153e+04  6.381685e+04    41.060212   37200.623197   \n",
       "std    5.490488e+04  6.352250e+04  1.115297e+05    10.344505   24774.288006   \n",
       "min    0.000000e+00 -5.023020e+05 -5.023020e+05    25.000000   -2652.000000   \n",
       "25%    2.000000e+02 -5.000000e+02  3.291500e+03    32.000000   19413.000000   \n",
       "50%    1.635000e+03  1.499000e+03  2.510000e+04    40.000000   31476.000000   \n",
       "75%    8.765500e+03  1.652450e+04  8.148750e+04    48.000000   48583.500000   \n",
       "max    1.430298e+06  1.536798e+06  2.029910e+06    64.000000  242124.000000   \n",
       "\n",
       "             fsize         educ           db         marr      twoearn  \\\n",
       "count  9915.000000  9915.000000  9915.000000  9915.000000  9915.000000   \n",
       "mean      2.865860    13.206253     0.271004     0.604841     0.380837   \n",
       "std       1.538937     2.810382     0.444500     0.488909     0.485617   \n",
       "min       1.000000     1.000000     0.000000     0.000000     0.000000   \n",
       "25%       2.000000    12.000000     0.000000     0.000000     0.000000   \n",
       "50%       3.000000    12.000000     0.000000     1.000000     0.000000   \n",
       "75%       4.000000    16.000000     1.000000     1.000000     1.000000   \n",
       "max      13.000000    18.000000     1.000000     1.000000     1.000000   \n",
       "\n",
       "              e401         p401         pira         hown  \n",
       "count  9915.000000  9915.000000  9915.000000  9915.000000  \n",
       "mean      0.371357     0.261624     0.242158     0.635199  \n",
       "std       0.483192     0.439541     0.428411     0.481399  \n",
       "min       0.000000     0.000000     0.000000     0.000000  \n",
       "25%       0.000000     0.000000     0.000000     0.000000  \n",
       "50%       0.000000     0.000000     0.000000     1.000000  \n",
       "75%       1.000000     1.000000     0.000000     1.000000  \n",
       "max       1.000000     1.000000     1.000000     1.000000  "
      ]
     },
     "execution_count": 5,
     "metadata": {},
     "output_type": "execute_result"
    }
   ],
   "source": [
    "df = read(r\"C:\\Users\\philh\\Projects\\One\\401K\\data\\sipp1991.Rdata\")\n",
    "df.describe()"
   ]
  },
  {
   "cell_type": "markdown",
   "id": "a3b8890b",
   "metadata": {},
   "source": [
    "Sample Overview:"
   ]
  },
  {
   "cell_type": "code",
   "execution_count": null,
   "id": "aa43a9d4",
   "metadata": {},
   "outputs": [
    {
     "name": "stdout",
     "output_type": "stream",
     "text": [
      "=== SIPP 1991 401(k) Sample ===\n",
      "Total households: 9,915\n",
      "Age range: 25-64 years\n",
      "Income range: $-2,652 - $242,124\n",
      "Average net financial assets: $18,052\n"
     ]
    }
   ],
   "source": [
    "print(\"=== SIPP 1991 401(k) Sample ===\")\n",
    "print(f\"Total households: {len(df):,}\")\n",
    "print(f\"Age range: {df['age'].min()}-{df['age'].max()} years\")\n",
    "print(f\"Income range: ${df['inc'].min():,.0f} - ${df['inc'].max():,.0f}\")\n",
    "print(f\"Average net financial assets: ${df['net_tfa'].mean():,.0f}\")"
   ]
  },
  {
   "cell_type": "markdown",
   "id": "cb702b0a",
   "metadata": {},
   "source": [
    "The Instrumental Variable Setup:"
   ]
  },
  {
   "cell_type": "code",
   "execution_count": 8,
   "id": "1925768f",
   "metadata": {},
   "outputs": [
    {
     "name": "stdout",
     "output_type": "stream",
     "text": [
      "=== The Instrumental Variable Strategy ===\n",
      "Employer Offering → Employee Participation → Savings Outcomes\n",
      "\n",
      "Employer Offering vs Employee Participation:\n",
      "p401     0     1   All\n",
      "e401                  \n",
      "0     6233     0  6233\n",
      "1     1088  2594  3682\n",
      "All   7321  2594  9915\n",
      "\n",
      "Key insight: 70.5% of employees participate when offered\n",
      "But only 37.1% of employers offer 401(k) plans\n"
     ]
    }
   ],
   "source": [
    "print(\"=== The Instrumental Variable Strategy ===\")\n",
    "print(\"Employer Offering → Employee Participation → Savings Outcomes\")\n",
    "print()\n",
    "cross_tab = pd.crosstab(df['e401'], df['p401'], margins=True)\n",
    "print(\"Employer Offering vs Employee Participation:\")\n",
    "print(cross_tab)\n",
    "print()\n",
    "print(f\"Key insight: {df[df['e401']==1]['p401'].mean():.1%} of employees participate when offered\")\n",
    "print(f\"But only {df['e401'].mean():.1%} of employers offer 401(k) plans\")"
   ]
  },
  {
   "cell_type": "markdown",
   "id": "b49ced8a",
   "metadata": {},
   "source": [
    "Why We Need an Instrument (The Selection Problem):"
   ]
  },
  {
   "cell_type": "code",
   "execution_count": null,
   "id": "6412628e",
   "metadata": {},
   "outputs": [
    {
     "name": "stdout",
     "output_type": "stream",
     "text": [
      "=== The Selection Problem ===\n",
      "401(k) Participants vs Non-Participants:\n",
      "Average income: $49,367 vs $32,890\n",
      "Average age: 41.5 vs 40.9\n",
      "College educated: 32.9% vs 22.3%\n",
      "\n",
      "Participants are systematically different! Simple comparison would be biased.\n"
     ]
    }
   ],
   "source": [
    "print(\"=== The Selection Problem ===\")\n",
    "participants = df[df['p401']==1]\n",
    "non_participants = df[df['p401']==0]\n",
    "\n",
    "print(\"401(k) Participants vs Non-Participants:\")\n",
    "print(f\"Average income: ${participants['inc'].mean():,.0f} vs ${non_participants['inc'].mean():,.0f}\")\n",
    "print(f\"Average age: {participants['age'].mean():.1f} vs {non_participants['age'].mean():.1f}\")\n",
    "print(f\"College educated: {(participants['educ']>=16).mean():.1%} vs {(non_participants['educ']>=16).mean():.1%}\")\n",
    "print()\n",
    "print(\"Participants are systematically different! Simple comparison would be biased.\")"
   ]
  },
  {
   "cell_type": "markdown",
   "id": "4cd11306",
   "metadata": {},
   "source": [
    "# Statistical Analysis"
   ]
  },
  {
   "cell_type": "markdown",
   "id": "69c584d7",
   "metadata": {},
   "source": [
    "#### Naive Comparison"
   ]
  },
  {
   "cell_type": "code",
   "execution_count": 13,
   "id": "1ed08b3f",
   "metadata": {},
   "outputs": [
    {
     "name": "stdout",
     "output_type": "stream",
     "text": [
      "=== Naive Comparison (BIASED) ===\n",
      "Raw difference in net assets: $27,372\n",
      "But this confounds selection effects with treatment effects!\n"
     ]
    }
   ],
   "source": [
    "# The biased estimate\n",
    "print(\"=== Naive Comparison (BIASED) ===\")\n",
    "naive_diff = participants['net_tfa'].mean() - non_participants['net_tfa'].mean()\n",
    "print(f\"Raw difference in net assets: ${naive_diff:,.0f}\")\n",
    "print(\"But this confounds selection effects with treatment effects!\")"
   ]
  },
  {
   "cell_type": "markdown",
   "id": "43e584f6",
   "metadata": {},
   "source": [
    "#### Regression with Controls:"
   ]
  },
  {
   "cell_type": "code",
   "execution_count": 16,
   "id": "95f6a095",
   "metadata": {},
   "outputs": [
    {
     "name": "stdout",
     "output_type": "stream",
     "text": [
      "=== OLS with Controls ===\n",
      "401(k) participation effect: $15,541\n",
      "Standard error: $2,027\n",
      "P-value: 0.000\n",
      "95% Confidence interval: $11,568 to $19,514\n"
     ]
    }
   ],
   "source": [
    "import statsmodels.api as sm\n",
    "\n",
    "X = df[[\"e401\", \"p401\", \"age\", \"inc\", \"educ\", \"fsize\", \"db\", \"marr\", \"twoearn\", \"pira\", \"hown\"]]\n",
    "X = sm.add_constant(X)  # adds intercept\n",
    "y = df[\"net_tfa\"]\n",
    "print(\"=== OLS with Controls ===\")\n",
    "\n",
    "model = sm.OLS(y, X)\n",
    "results = model.fit()\n",
    "\n",
    "print(f\"401(k) participation effect: ${results.params['p401']:,.0f}\")\n",
    "print(f\"Standard error: ${results.bse['p401']:,.0f}\")\n",
    "print(f\"P-value: {results.pvalues['p401']:.3f}\")\n",
    "print(f\"95% Confidence interval: ${results.conf_int().loc['p401', 0]:,.0f} to ${results.conf_int().loc['p401', 1]:,.0f}\")\n"
   ]
  },
  {
   "cell_type": "markdown",
   "id": "33fce0a2",
   "metadata": {},
   "source": [
    "#### Reduced Form (Intent-to-Treat):"
   ]
  },
  {
   "cell_type": "code",
   "execution_count": 17,
   "id": "facd2ef9",
   "metadata": {},
   "outputs": [
    {
     "name": "stdout",
     "output_type": "stream",
     "text": [
      "=== Reduced Form: Effect of Employer Offering ===\n",
      "Employer offering effect: $5,896\n"
     ]
    }
   ],
   "source": [
    "print(\"=== Reduced Form: Effect of Employer Offering ===\")\n",
    "X_reduced = df[[\"e401\", \"age\", \"inc\", \"educ\", \"fsize\", \"db\", \"marr\", \"twoearn\", \"pira\", \"hown\"]]\n",
    "X_reduced = sm.add_constant(X_reduced)\n",
    "model_reduced = sm.OLS(df[\"net_tfa\"], X_reduced).fit()\n",
    "print(f\"Employer offering effect: ${model_reduced.params['e401']:,.0f}\")"
   ]
  },
  {
   "cell_type": "markdown",
   "id": "4eaf5cbc",
   "metadata": {},
   "source": [
    "#### First Stage: How Strong The Instrument Is"
   ]
  },
  {
   "cell_type": "code",
   "execution_count": 18,
   "id": "8350f3fe",
   "metadata": {},
   "outputs": [
    {
     "name": "stdout",
     "output_type": "stream",
     "text": [
      "=== First Stage: Employer Offering → Participation ===\n",
      "Employer offering increases participation by: 69.3%\n",
      "F-statistic: 1533.6 (>10 suggests strong instrument)\n"
     ]
    }
   ],
   "source": [
    "print(\"=== First Stage: Employer Offering → Participation ===\")\n",
    "model_first = sm.OLS(df[\"p401\"], X_reduced).fit()\n",
    "print(f\"Employer offering increases participation by: {model_first.params['e401']:.1%}\")\n",
    "print(f\"F-statistic: {model_first.fvalue:.1f} (>10 suggests strong instrument)\")"
   ]
  },
  {
   "cell_type": "markdown",
   "id": "06594870",
   "metadata": {},
   "source": [
    "# Visualizations"
   ]
  },
  {
   "cell_type": "markdown",
   "id": "6bd6d28b",
   "metadata": {},
   "source": [
    "#### The Key Relationship:"
   ]
  },
  {
   "cell_type": "code",
   "execution_count": 22,
   "id": "66b113dd",
   "metadata": {},
   "outputs": [
    {
     "data": {
      "text/plain": [
       "Text(0, 0.5, 'Net Financial Assets ($)')"
      ]
     },
     "execution_count": 22,
     "metadata": {},
     "output_type": "execute_result"
    },
    {
     "data": {
      "image/png": "[encoded data removed]",
      "text/plain": [
       "<Figure size 1200x500 with 2 Axes>"
      ]
     },
     "metadata": {},
     "output_type": "display_data"
    }
   ],
   "source": [
    "fig, axes = plt.subplots(1, 2, figsize=(12, 5))\n",
    "\n",
    "# Plot 1: Participation rates by offering\n",
    "offer_participation = df.groupby('e401')['p401'].mean()\n",
    "axes[0].bar(['No 401k Offered', '401k Offered'], offer_participation, color=['red', 'green'])\n",
    "axes[0].set_title('401(k) Participation by Employer Offering')\n",
    "axes[0].set_ylabel('Participation Rate')\n",
    "\n",
    "# Plot 2: Average assets by offering (reduced form)\n",
    "offer_assets = df.groupby('e401')['net_tfa'].mean()\n",
    "axes[1].bar(['No 401k Offered', '401k Offered'], offer_assets, color=['red', 'green'])\n",
    "axes[1].set_title('Average Net Assets by Employer Offering')\n",
    "axes[1].set_ylabel('Net Financial Assets ($)')"
   ]
  },
  {
   "cell_type": "code",
   "execution_count": 23,
   "id": "ec355b31",
   "metadata": {},
   "outputs": [
    {
     "name": "stdout",
     "output_type": "stream",
     "text": [
      "T-test for difference in assets by employer offering:\n",
      "T-statistic: 14.980, P-value: 0.000\n"
     ]
    }
   ],
   "source": [
    "# statistical tests\n",
    "from scipy import stats\n",
    "\n",
    "# Test for differences in means\n",
    "statistic, p_value = stats.ttest_ind(\n",
    "    df[df['e401']==1]['net_tfa'], \n",
    "    df[df['e401']==0]['net_tfa']\n",
    ")\n",
    "print(f\"T-test for difference in assets by employer offering:\")\n",
    "print(f\"T-statistic: {statistic:.3f}, P-value: {p_value:.3f}\")"
   ]
  },
  {
   "cell_type": "markdown",
   "id": "d6f4b878",
   "metadata": {},
   "source": [
    "# Economic Interpretation"
   ]
  },
  {
   "cell_type": "code",
   "execution_count": 24,
   "id": "49008843",
   "metadata": {},
   "outputs": [
    {
     "name": "stdout",
     "output_type": "stream",
     "text": [
      "=== Economic Interpretation ===\n",
      "Main finding: Employer 401(k) offering increases net financial assets by $5,896\n",
      "This represents a 32.7% increase over the sample mean\n",
      "\n",
      "Policy implication: Expanding 401(k) access could significantly boost household savings\n"
     ]
    }
   ],
   "source": [
    "print(\"=== Economic Interpretation ===\")\n",
    "print(f\"Main finding: Employer 401(k) offering increases net financial assets by ${model_reduced.params['e401']:,.0f}\")\n",
    "print(f\"This represents a {model_reduced.params['e401']/df['net_tfa'].mean()*100:.1f}% increase over the sample mean\")\n",
    "print()\n",
    "print(\"Policy implication: Expanding 401(k) access could significantly boost household savings\")"
   ]
  }
 ],
 "metadata": {
  "kernelspec": {
   "display_name": "py38_li",
   "language": "python",
   "name": "python3"
  },
  "language_info": {
   "codemirror_mode": {
    "name": "ipython",
    "version": 3
   },
   "file_extension": ".py",
   "mimetype": "text/x-python",
   "name": "python",
   "nbconvert_exporter": "python",
   "pygments_lexer": "ipython3",
   "version": "3.8.20"
  }
 },
 "nbformat": 4,
 "nbformat_minor": 5
}
