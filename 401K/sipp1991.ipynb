{
 "cells": [
  {
   "attachments": {},
   "cell_type": "markdown",
   "id": "3ff75bb7-f70f-4a78-9d7b-ed388eb8587f",
   "metadata": {},
   "source": [
    "#### SIPP1991 401K data\n",
    "\n",
    "#### logs\n",
    "\n",
    "5/15/2024 WL: template provided. TODO: write a brief intro to the data discussing the background, and the meaning of the variables; do a bit data summary and regression along the similar lines of ldw data.\n"
   ]
  },
  {
   "cell_type": "markdown",
   "id": "452400c4",
   "metadata": {},
   "source": [
    "**Data source: SIPP 1991 (Abadie, 2003), pages 231-263**\n",
    "  \n",
    "This paper investigates the effect of 401(k) programs on savings. To combat selection bias, they use a new statistical method that accounts for individual differences in benefit from 401(k), works with continuous outcomes (like amount saved) and avoids strong assumptions on variable relationships.   \n",
    "\n",
    "The variables in the data set include:\n",
    "\\begin{align*}\n",
    "%\\begin{array}{ll}\n",
    "\\hline \\text { Variable } & \\quad \\text { Description } \\\\\n",
    "\\hline \\text { net tfa } &\\quad  \\text { Net total financial assets } \\\\\n",
    "\\text { e401 } &\\quad  \\text { = 1 if employers offers 401(k) } \\\\\n",
    "\\text { p401 } &\\quad  \\text { = 1 if the employee participates 401(k) } \\\\\n",
    "\\text { age } & \\quad \\text { age } \\\\\n",
    "\\text { inc } &\\quad  \\text { income } \\\\\n",
    "\\text { fsize } &\\quad  \\text { family size } \\\\\n",
    "\\text { educ } &\\quad  \\text { years of education }\\\\\n",
    "\\text { db } &\\quad  \\text { = 1 if indivudual has defined benefit pension } \\\\\n",
    "\\text { marr } &\\quad \\text { = 1 if married } \\\\\n",
    "\\text { twoearn } &\\quad \\text { = 1 if two-earner household } \\\\\n",
    "\\text { pira } &\\quad \\text { = 1 if individual participates in IRA } \\\\\n",
    "\\text { hown } &\\quad \\text { = 1 if home owner } \\\\\n",
    "\\hline\n",
    "%\\end{array}\n",
    "\\end{align*}\n",
    "\n",
    "The data consist of 9915 observations from the Survey of Income and Program Participation (SIPP) of 1991. It is restricted to households of persons aged 25-64, where at least one individual is employed and no persns are self-employed. Additionally, family income ranges beteen $10,000 - $200,000."
   ]
  },
  {
   "cell_type": "code",
   "execution_count": 38,
   "id": "3b4a2014-452a-4b9c-8193-56d2be8f0fb8",
   "metadata": {
    "tags": []
   },
   "outputs": [
    {
     "name": "stdout",
     "output_type": "stream",
     "text": [
      "Current working directory: c:\\Users\\I1000928\\Projects\\Causal-Inference-Data-Analyses\\401K\n"
     ]
    }
   ],
   "source": [
    "import io\n",
    "import os\n",
    "import numpy as np\n",
    "import matplotlib.pyplot as plt\n",
    "import matplotlib.ticker as mticker\n",
    "import pandas as pd\n",
    "import seaborn as sns\n",
    "import requests\n",
    "from data_process import load_rdata\n",
    "\n",
    "# Print the current working directory\n",
    "print(\"Current working directory: {0}\".format(os.getcwd()))"
   ]
  },
  {
   "cell_type": "code",
   "execution_count": 33,
   "id": "f73471e6",
   "metadata": {},
   "outputs": [],
   "source": [
    "sns.set()\n",
    "colors = sns.color_palette()\n",
    "plt.rcParams['figure.figsize'] = 7., 5\n",
    "sns.set(font_scale=1)\n",
    "sns.set_style('whitegrid', {'axes.spines.top': True,\n",
    "                            'axes.spines.bottom': True,\n",
    "                            'axes.spines.left': True,\n",
    "                            'axes.spines.right': True})"
   ]
  },
  {
   "cell_type": "code",
   "execution_count": 28,
   "id": "c11ecefc",
   "metadata": {},
   "outputs": [
    {
     "data": {
      "application/vnd.microsoft.datawrangler.viewer.v0+json": {
       "columns": [
        {
         "name": "index",
         "rawType": "object",
         "type": "string"
        },
        {
         "name": "nifa",
         "rawType": "float64",
         "type": "float"
        },
        {
         "name": "net_tfa",
         "rawType": "float64",
         "type": "float"
        },
        {
         "name": "tw",
         "rawType": "float64",
         "type": "float"
        },
        {
         "name": "age",
         "rawType": "float64",
         "type": "float"
        },
        {
         "name": "inc",
         "rawType": "float64",
         "type": "float"
        },
        {
         "name": "fsize",
         "rawType": "float64",
         "type": "float"
        },
        {
         "name": "educ",
         "rawType": "float64",
         "type": "float"
        },
        {
         "name": "db",
         "rawType": "float64",
         "type": "float"
        },
        {
         "name": "marr",
         "rawType": "float64",
         "type": "float"
        },
        {
         "name": "twoearn",
         "rawType": "float64",
         "type": "float"
        },
        {
         "name": "e401",
         "rawType": "float64",
         "type": "float"
        },
        {
         "name": "p401",
         "rawType": "float64",
         "type": "float"
        },
        {
         "name": "pira",
         "rawType": "float64",
         "type": "float"
        },
        {
         "name": "hown",
         "rawType": "float64",
         "type": "float"
        }
       ],
       "ref": "12643ea3-434b-44d6-8e4c-0f365ca02be1",
       "rows": [
        [
         "count",
         "9915.0",
         "9915.0",
         "9915.0",
         "9915.0",
         "9915.0",
         "9915.0",
         "9915.0",
         "9915.0",
         "9915.0",
         "9915.0",
         "9915.0",
         "9915.0",
         "9915.0",
         "9915.0"
        ],
        [
         "mean",
         "13928.64215834594",
         "18051.534846192637",
         "63816.84659606656",
         "41.060211800302575",
         "37200.623197176",
         "2.865859808371155",
         "13.206253151790216",
         "0.27100353000504285",
         "0.6048411497730711",
         "0.38083711548159355",
         "0.3713565305093293",
         "0.2616238023197176",
         "0.2421583459404942",
         "0.6351991931417045"
        ],
        [
         "std",
         "54904.88117558413",
         "63522.50153797639",
         "111529.65457225926",
         "10.344504863501756",
         "24774.288005815673",
         "1.5389369598604306",
         "2.8103818508035796",
         "0.44450033089692476",
         "0.4889094409783782",
         "0.4856171244109997",
         "0.4831918928878259",
         "0.43954098060531577",
         "0.42841124214271575",
         "0.4813985368699654"
        ],
        [
         "min",
         "0.0",
         "-502302.0",
         "-502302.0",
         "25.0",
         "-2652.0",
         "1.0",
         "1.0",
         "0.0",
         "0.0",
         "0.0",
         "0.0",
         "0.0",
         "0.0",
         "0.0"
        ],
        [
         "25%",
         "200.0",
         "-500.0",
         "3291.5",
         "32.0",
         "19413.0",
         "2.0",
         "12.0",
         "0.0",
         "0.0",
         "0.0",
         "0.0",
         "0.0",
         "0.0",
         "0.0"
        ],
        [
         "50%",
         "1635.0",
         "1499.0",
         "25100.0",
         "40.0",
         "31476.0",
         "3.0",
         "12.0",
         "0.0",
         "1.0",
         "0.0",
         "0.0",
         "0.0",
         "0.0",
         "1.0"
        ],
        [
         "75%",
         "8765.5",
         "16524.5",
         "81487.5",
         "48.0",
         "48583.5",
         "4.0",
         "16.0",
         "1.0",
         "1.0",
         "1.0",
         "1.0",
         "1.0",
         "0.0",
         "1.0"
        ],
        [
         "max",
         "1430298.0",
         "1536798.0",
         "2029910.0",
         "64.0",
         "242124.0",
         "13.0",
         "18.0",
         "1.0",
         "1.0",
         "1.0",
         "1.0",
         "1.0",
         "1.0",
         "1.0"
        ]
       ],
       "shape": {
        "columns": 14,
        "rows": 8
       }
      },
      "text/html": [
       "<div>\n",
       "<style scoped>\n",
       "    .dataframe tbody tr th:only-of-type {\n",
       "        vertical-align: middle;\n",
       "    }\n",
       "\n",
       "    .dataframe tbody tr th {\n",
       "        vertical-align: top;\n",
       "    }\n",
       "\n",
       "    .dataframe thead th {\n",
       "        text-align: right;\n",
       "    }\n",
       "</style>\n",
       "<table border=\"1\" class=\"dataframe\">\n",
       "  <thead>\n",
       "    <tr style=\"text-align: right;\">\n",
       "      <th></th>\n",
       "      <th>nifa</th>\n",
       "      <th>net_tfa</th>\n",
       "      <th>tw</th>\n",
       "      <th>age</th>\n",
       "      <th>inc</th>\n",
       "      <th>fsize</th>\n",
       "      <th>educ</th>\n",
       "      <th>db</th>\n",
       "      <th>marr</th>\n",
       "      <th>twoearn</th>\n",
       "      <th>e401</th>\n",
       "      <th>p401</th>\n",
       "      <th>pira</th>\n",
       "      <th>hown</th>\n",
       "    </tr>\n",
       "  </thead>\n",
       "  <tbody>\n",
       "    <tr>\n",
       "      <th>count</th>\n",
       "      <td>9.915000e+03</td>\n",
       "      <td>9.915000e+03</td>\n",
       "      <td>9.915000e+03</td>\n",
       "      <td>9915.000000</td>\n",
       "      <td>9915.000000</td>\n",
       "      <td>9915.000000</td>\n",
       "      <td>9915.000000</td>\n",
       "      <td>9915.000000</td>\n",
       "      <td>9915.000000</td>\n",
       "      <td>9915.000000</td>\n",
       "      <td>9915.000000</td>\n",
       "      <td>9915.000000</td>\n",
       "      <td>9915.000000</td>\n",
       "      <td>9915.000000</td>\n",
       "    </tr>\n",
       "    <tr>\n",
       "      <th>mean</th>\n",
       "      <td>1.392864e+04</td>\n",
       "      <td>1.805153e+04</td>\n",
       "      <td>6.381685e+04</td>\n",
       "      <td>41.060212</td>\n",
       "      <td>37200.623197</td>\n",
       "      <td>2.865860</td>\n",
       "      <td>13.206253</td>\n",
       "      <td>0.271004</td>\n",
       "      <td>0.604841</td>\n",
       "      <td>0.380837</td>\n",
       "      <td>0.371357</td>\n",
       "      <td>0.261624</td>\n",
       "      <td>0.242158</td>\n",
       "      <td>0.635199</td>\n",
       "    </tr>\n",
       "    <tr>\n",
       "      <th>std</th>\n",
       "      <td>5.490488e+04</td>\n",
       "      <td>6.352250e+04</td>\n",
       "      <td>1.115297e+05</td>\n",
       "      <td>10.344505</td>\n",
       "      <td>24774.288006</td>\n",
       "      <td>1.538937</td>\n",
       "      <td>2.810382</td>\n",
       "      <td>0.444500</td>\n",
       "      <td>0.488909</td>\n",
       "      <td>0.485617</td>\n",
       "      <td>0.483192</td>\n",
       "      <td>0.439541</td>\n",
       "      <td>0.428411</td>\n",
       "      <td>0.481399</td>\n",
       "    </tr>\n",
       "    <tr>\n",
       "      <th>min</th>\n",
       "      <td>0.000000e+00</td>\n",
       "      <td>-5.023020e+05</td>\n",
       "      <td>-5.023020e+05</td>\n",
       "      <td>25.000000</td>\n",
       "      <td>-2652.000000</td>\n",
       "      <td>1.000000</td>\n",
       "      <td>1.000000</td>\n",
       "      <td>0.000000</td>\n",
       "      <td>0.000000</td>\n",
       "      <td>0.000000</td>\n",
       "      <td>0.000000</td>\n",
       "      <td>0.000000</td>\n",
       "      <td>0.000000</td>\n",
       "      <td>0.000000</td>\n",
       "    </tr>\n",
       "    <tr>\n",
       "      <th>25%</th>\n",
       "      <td>2.000000e+02</td>\n",
       "      <td>-5.000000e+02</td>\n",
       "      <td>3.291500e+03</td>\n",
       "      <td>32.000000</td>\n",
       "      <td>19413.000000</td>\n",
       "      <td>2.000000</td>\n",
       "      <td>12.000000</td>\n",
       "      <td>0.000000</td>\n",
       "      <td>0.000000</td>\n",
       "      <td>0.000000</td>\n",
       "      <td>0.000000</td>\n",
       "      <td>0.000000</td>\n",
       "      <td>0.000000</td>\n",
       "      <td>0.000000</td>\n",
       "    </tr>\n",
       "    <tr>\n",
       "      <th>50%</th>\n",
       "      <td>1.635000e+03</td>\n",
       "      <td>1.499000e+03</td>\n",
       "      <td>2.510000e+04</td>\n",
       "      <td>40.000000</td>\n",
       "      <td>31476.000000</td>\n",
       "      <td>3.000000</td>\n",
       "      <td>12.000000</td>\n",
       "      <td>0.000000</td>\n",
       "      <td>1.000000</td>\n",
       "      <td>0.000000</td>\n",
       "      <td>0.000000</td>\n",
       "      <td>0.000000</td>\n",
       "      <td>0.000000</td>\n",
       "      <td>1.000000</td>\n",
       "    </tr>\n",
       "    <tr>\n",
       "      <th>75%</th>\n",
       "      <td>8.765500e+03</td>\n",
       "      <td>1.652450e+04</td>\n",
       "      <td>8.148750e+04</td>\n",
       "      <td>48.000000</td>\n",
       "      <td>48583.500000</td>\n",
       "      <td>4.000000</td>\n",
       "      <td>16.000000</td>\n",
       "      <td>1.000000</td>\n",
       "      <td>1.000000</td>\n",
       "      <td>1.000000</td>\n",
       "      <td>1.000000</td>\n",
       "      <td>1.000000</td>\n",
       "      <td>0.000000</td>\n",
       "      <td>1.000000</td>\n",
       "    </tr>\n",
       "    <tr>\n",
       "      <th>max</th>\n",
       "      <td>1.430298e+06</td>\n",
       "      <td>1.536798e+06</td>\n",
       "      <td>2.029910e+06</td>\n",
       "      <td>64.000000</td>\n",
       "      <td>242124.000000</td>\n",
       "      <td>13.000000</td>\n",
       "      <td>18.000000</td>\n",
       "      <td>1.000000</td>\n",
       "      <td>1.000000</td>\n",
       "      <td>1.000000</td>\n",
       "      <td>1.000000</td>\n",
       "      <td>1.000000</td>\n",
       "      <td>1.000000</td>\n",
       "      <td>1.000000</td>\n",
       "    </tr>\n",
       "  </tbody>\n",
       "</table>\n",
       "</div>"
      ],
      "text/plain": [
       "               nifa       net_tfa            tw          age            inc  \\\n",
       "count  9.915000e+03  9.915000e+03  9.915000e+03  9915.000000    9915.000000   \n",
       "mean   1.392864e+04  1.805153e+04  6.381685e+04    41.060212   37200.623197   \n",
       "std    5.490488e+04  6.352250e+04  1.115297e+05    10.344505   24774.288006   \n",
       "min    0.000000e+00 -5.023020e+05 -5.023020e+05    25.000000   -2652.000000   \n",
       "25%    2.000000e+02 -5.000000e+02  3.291500e+03    32.000000   19413.000000   \n",
       "50%    1.635000e+03  1.499000e+03  2.510000e+04    40.000000   31476.000000   \n",
       "75%    8.765500e+03  1.652450e+04  8.148750e+04    48.000000   48583.500000   \n",
       "max    1.430298e+06  1.536798e+06  2.029910e+06    64.000000  242124.000000   \n",
       "\n",
       "             fsize         educ           db         marr      twoearn  \\\n",
       "count  9915.000000  9915.000000  9915.000000  9915.000000  9915.000000   \n",
       "mean      2.865860    13.206253     0.271004     0.604841     0.380837   \n",
       "std       1.538937     2.810382     0.444500     0.488909     0.485617   \n",
       "min       1.000000     1.000000     0.000000     0.000000     0.000000   \n",
       "25%       2.000000    12.000000     0.000000     0.000000     0.000000   \n",
       "50%       3.000000    12.000000     0.000000     1.000000     0.000000   \n",
       "75%       4.000000    16.000000     1.000000     1.000000     1.000000   \n",
       "max      13.000000    18.000000     1.000000     1.000000     1.000000   \n",
       "\n",
       "              e401         p401         pira         hown  \n",
       "count  9915.000000  9915.000000  9915.000000  9915.000000  \n",
       "mean      0.371357     0.261624     0.242158     0.635199  \n",
       "std       0.483192     0.439541     0.428411     0.481399  \n",
       "min       0.000000     0.000000     0.000000     0.000000  \n",
       "25%       0.000000     0.000000     0.000000     0.000000  \n",
       "50%       0.000000     0.000000     0.000000     1.000000  \n",
       "75%       1.000000     1.000000     0.000000     1.000000  \n",
       "max       1.000000     1.000000     1.000000     1.000000  "
      ]
     },
     "execution_count": 28,
     "metadata": {},
     "output_type": "execute_result"
    }
   ],
   "source": [
    "fin_data = load_rdata(r\"C:\\Users\\I1000928\\Projects\\Causal-Inference-Data-Analyses\\401K\\data\\sipp1991.Rdata\")\n",
    "df = list(fin_data.values())[0]\n",
    "df.describe()"
   ]
  },
  {
   "cell_type": "code",
   "execution_count": 11,
   "id": "aa43a9d4",
   "metadata": {},
   "outputs": [
    {
     "name": "stdout",
     "output_type": "stream",
     "text": [
      "Sample size: 9915\n",
      "People with zero net_tfa: 783 (7.9%)\n",
      "401k participation rate: 26.2%\n",
      "Employer offering rate: 37.1%\n"
     ]
    }
   ],
   "source": [
    "#Key distributional facts\n",
    "print(f\"Sample size: {len(df)}\")\n",
    "print(f\"People with zero net_tfa: {sum(df['net_tfa'] == 0)} ({sum(df['net_tfa'] == 0)/len(df)*100:.1f}%)\")\n",
    "print(f\"401k participation rate: {df['p401'].mean()*100:.1f}%\")\n",
    "print(f\"Employer offering rate: {df['e401'].mean()*100:.1f}%\")"
   ]
  },
  {
   "cell_type": "code",
   "execution_count": 38,
   "id": "1925768f",
   "metadata": {},
   "outputs": [
    {
     "name": "stdout",
     "output_type": "stream",
     "text": [
      "p401          0         1\n",
      "e401                     \n",
      "0      1.000000  0.000000\n",
      "1      0.295492  0.704508\n",
      "Total  0.738376  0.261624\n"
     ]
    }
   ],
   "source": [
    "# Cross-tabulation of e401 and p401\n",
    "cross_tab = pd.crosstab(df['e401'], df['p401'], margins=True, margins_name='Total', normalize='index')\n",
    "cross_tab.head()\n",
    "print(cross_tab)\n"
   ]
  },
  {
   "cell_type": "markdown",
   "id": "66547b40",
   "metadata": {},
   "source": [
    "The cross-tabulation shows the relationship between whether an employer offers a 401(k) plan (`e401`) and whether the employee participates in a 401(k) plan (`p401`).\n",
    "\n",
    "- When employer does not offer 401(k) (`e401` is 0), 100% of employees do not participate (`p401` = 0).\n",
    "- When employer offers 401(k) (`e401` is 1), about 70.5% of employees participate (`p401` = 1) and 29.5% do not.\n",
    "- In total about 26.2% participate in a 401(k), and 73.8% do not.\n",
    "\n",
    "While it is evident that employees can only participate in a 401(k) if their employer offers one; even when offered, not all employees choose to participate."
   ]
  },
  {
   "cell_type": "code",
   "execution_count": null,
   "id": "1ed08b3f",
   "metadata": {},
   "outputs": [
    {
     "data": {
      "image/png": "[encoded data removed]",
      "text/plain": [
       "<Figure size 700x500 with 1 Axes>"
      ]
     },
     "metadata": {},
     "output_type": "display_data"
    }
   ],
   "source": [
    "# Distribution of avg net_tfa\n",
    "sns.histplot(data=df, x=df['net_tfa']/1000, bins=50, kde=False, color='blue')\n",
    "plt.title(\"Distribution of Net Total Financial Assets (net_tfa) with KDE\")\n",
    "plt.xlabel(\"Net Total Financial Assets (net_tfa) in thousands\")\n",
    "plt.ylabel(\"Number of Households\")\n",
    "plt.gca().xaxis.set_major_formatter(mticker.StrMethodFormatter('{x:,.0f}'))  # No scientific notation, comma as thousands separator\n",
    "plt.show()"
   ]
  },
  {
   "cell_type": "markdown",
   "id": "6a72c944",
   "metadata": {},
   "source": [
    "##### It looks like the distribution is skewed to the left by households with 0 net total financial assets. Let's examine the differences in net_tfa by 401k status."
   ]
  },
  {
   "cell_type": "code",
   "execution_count": null,
   "id": "66b113dd",
   "metadata": {},
   "outputs": [
    {
     "data": {
      "image/png": "[encoded data removed]",
      "text/plain": [
       "<Figure size 700x500 with 1 Axes>"
      ]
     },
     "metadata": {},
     "output_type": "display_data"
    }
   ],
   "source": [
    "# differences in net_tfa by 401k status\n",
    "avg_net_tfa = df.groupby('p401')['net_tfa'].mean().reset_index()\n",
    "sns.barplot(x='p401', y='net_tfa', data=avg_net_tfa, palette='viridis', hue = 'p401')\n",
    "plt.title('Average Net Total Financial Assets by 401(k) Participation')\n",
    "plt.xlabel('401(k) Participation (0 = No, 1 = Yes)')\n",
    "plt.ylabel('Average Net Total Financial Assets')\n",
    "plt.grid(axis='y', linestyle='--', alpha=0.7)\n",
    "plt.show()"
   ]
  },
  {
   "cell_type": "markdown",
   "id": "eded1e48",
   "metadata": {},
   "source": [
    "#### something something p401 = 1 = >net_tfa. Why? let's look at income and age distributions by treatment status or use our regression to determine which coefficiencts r most relevant."
   ]
  },
  {
   "cell_type": "code",
   "execution_count": 44,
   "id": "95f6a095",
   "metadata": {},
   "outputs": [
    {
     "name": "stdout",
     "output_type": "stream",
     "text": [
      "                            OLS Regression Results                            \n",
      "==============================================================================\n",
      "Dep. Variable:                net_tfa   R-squared:                       0.231\n",
      "Model:                            OLS   Adj. R-squared:                  0.230\n",
      "Method:                 Least Squares   F-statistic:                     297.8\n",
      "Date:                Fri, 25 Jul 2025   Prob (F-statistic):               0.00\n",
      "Time:                        11:39:33   Log-Likelihood:            -1.2242e+05\n",
      "No. Observations:                9915   AIC:                         2.449e+05\n",
      "Df Residuals:                    9904   BIC:                         2.449e+05\n",
      "Df Model:                          10                                         \n",
      "Covariance Type:            nonrobust                                         \n",
      "==============================================================================\n",
      "                 coef    std err          t      P>|t|      [0.025      0.975]\n",
      "------------------------------------------------------------------------------\n",
      "const      -3.291e+04   4276.223     -7.695      0.000   -4.13e+04   -2.45e+04\n",
      "e401        5896.1984   1250.014      4.717      0.000    3445.917    8346.480\n",
      "age          624.1455     59.521     10.486      0.000     507.472     740.819\n",
      "inc            0.9357      0.030     30.982      0.000       0.876       0.995\n",
      "educ        -639.7538    228.499     -2.800      0.005   -1087.659    -191.848\n",
      "fsize      -1018.7979    449.859     -2.265      0.024   -1900.614    -136.982\n",
      "db         -4904.5684   1359.098     -3.609      0.000   -7568.677   -2240.460\n",
      "marr         743.3445   1795.556      0.414      0.679   -2776.310    4262.999\n",
      "twoearn    -1.923e+04   1576.431    -12.196      0.000   -2.23e+04   -1.61e+04\n",
      "pira        2.953e+04   1465.830     20.148      0.000    2.67e+04    3.24e+04\n",
      "hown        1185.2564   1323.687      0.895      0.371   -1409.439    3779.952\n",
      "==============================================================================\n",
      "Omnibus:                    16589.925   Durbin-Watson:                   1.992\n",
      "Prob(Omnibus):                  0.000   Jarque-Bera (JB):         19604641.129\n",
      "Skew:                          11.217   Prob(JB):                         0.00\n",
      "Kurtosis:                     219.682   Cond. No.                     3.43e+05\n",
      "==============================================================================\n",
      "\n",
      "Notes:\n",
      "[1] Standard Errors assume that the covariance matrix of the errors is correctly specified.\n",
      "[2] The condition number is large, 3.43e+05. This might indicate that there are\n",
      "strong multicollinearity or other numerical problems.\n"
     ]
    }
   ],
   "source": [
    "#Ignore for now. Hold over from previous analysis\n",
    "import statsmodels.api as sm\n",
    "\n",
    "X = df[[\"e401\", \"age\", \"inc\", \"educ\", \"fsize\", \"db\", \"marr\", \"twoearn\", \"pira\", \"hown\"]]\n",
    "X = sm.add_constant(X)  # adds intercept\n",
    "y = df[\"net_tfa\"]\n",
    "\n",
    "model = sm.OLS(y, X)\n",
    "results = model.fit()\n",
    "print(results.summary())\n"
   ]
  },
  {
   "cell_type": "code",
   "execution_count": null,
   "id": "71df54e7",
   "metadata": {},
   "outputs": [],
   "source": []
  }
 ],
 "metadata": {
  "kernelspec": {
   "display_name": "py3.8-data-project",
   "language": "python",
   "name": "python3"
  },
  "language_info": {
   "codemirror_mode": {
    "name": "ipython",
    "version": 3
   },
   "file_extension": ".py",
   "mimetype": "text/x-python",
   "name": "python",
   "nbconvert_exporter": "python",
   "pygments_lexer": "ipython3",
   "version": "3.8.20"
  }
 },
 "nbformat": 4,
 "nbformat_minor": 5
}
