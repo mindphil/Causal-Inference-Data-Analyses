{
 "cells": [
  {
   "attachments": {},
   "cell_type": "markdown",
   "id": "3ff75bb7-f70f-4a78-9d7b-ed388eb8587f",
   "metadata": {},
   "source": [
    "#### SIPP1991 401K data\n",
    "\n",
    "#### logs\n",
    "\n",
    "5/15/2024 WL: template provided. TODO: write a brief intro to the data discussing the background, and the meaning of the variables; do a bit data summary and regression along the similar lines of ldw data.\n"
   ]
  },
  {
   "cell_type": "markdown",
   "id": "452400c4",
   "metadata": {},
   "source": [
    "Data source: SIPP 1991 (Abadie, 2003), pages 231-263  \n",
    "This paper investigates the effect of 401(k) programs on savings. To combat selection bias, they use a new statistical method that accounts for individual differences in benefit from 401(k), works with continuous outcomes (like amount saved) and avoids strong assumptions on variable relationships.   \n",
    "The variables in the data set include:\n",
    "\\begin{align*}\n",
    "%\\begin{array}{ll}\n",
    "\\hline \\text { Variable } & \\quad \\text { Description } \\\\\n",
    "\\hline \\text { net tfa } &\\quad  \\text { Net total financial assets } \\\\\n",
    "\\text { e401 } &\\quad  \\text { = 1 if employers offers 401(k) } \\\\\n",
    "\\text { p401 } &\\quad  \\text { = 1 if the employee participates 401(k) } \\\\\n",
    "\\text { age } & \\quad \\text { age } \\\\\n",
    "\\text { inc } &\\quad  \\text { income } \\\\\n",
    "\\text { fsize } &\\quad  \\text { family size } \\\\\n",
    "\\text { educ } &\\quad  \\text { years of education }\\\\\n",
    "\\text { db } &\\quad  \\text { = 1 if indivudual has defined benefit pension } \\\\\n",
    "\\text { marr } &\\quad \\text { = 1 if married } \\\\\n",
    "\\text { twoearn } &\\quad \\text { = 1 if two-earner household } \\\\\n",
    "\\text { pira } &\\quad \\text { = 1 if individual participates in IRA } \\\\\n",
    "\\text { hown } &\\quad \\text { = 1 if home owner } \\\\\n",
    "\\hline\n",
    "%\\end{array}\n",
    "\\end{align*}\n",
    "\n",
    "The data consist of 9275 observations from the Survey of Income and Program Participation (SIPP) of 1991. It is restricted to households of persons aged 25-64, where at least one individual is employed and no persns are self-employed. Additionally, family income ranges beteen $10,000 - $200,000."
   ]
  },
  {
   "cell_type": "code",
   "execution_count": 2,
   "id": "3b4a2014-452a-4b9c-8193-56d2be8f0fb8",
   "metadata": {
    "tags": []
   },
   "outputs": [
    {
     "name": "stdout",
     "output_type": "stream",
     "text": [
      "Current working directory: c:\\Users\\philh\\Projects\\One\\401K\n"
     ]
    }
   ],
   "source": [
    "import io\n",
    "import os\n",
    "import numpy as np\n",
    "import matplotlib.pyplot as plt\n",
    "import pandas as pd\n",
    "import requests\n",
    "from data_process import load_rdata\n",
    "\n",
    "# Print the current working directory\n",
    "print(\"Current working directory: {0}\".format(os.getcwd()))"
   ]
  },
  {
   "cell_type": "code",
   "execution_count": 19,
   "id": "c11ecefc",
   "metadata": {},
   "outputs": [
    {
     "data": {
      "text/html": [
       "<div>\n",
       "<style scoped>\n",
       "    .dataframe tbody tr th:only-of-type {\n",
       "        vertical-align: middle;\n",
       "    }\n",
       "\n",
       "    .dataframe tbody tr th {\n",
       "        vertical-align: top;\n",
       "    }\n",
       "\n",
       "    .dataframe thead th {\n",
       "        text-align: right;\n",
       "    }\n",
       "</style>\n",
       "<table border=\"1\" class=\"dataframe\">\n",
       "  <thead>\n",
       "    <tr style=\"text-align: right;\">\n",
       "      <th></th>\n",
       "      <th>net_tfa</th>\n",
       "      <th>inc</th>\n",
       "      <th>e401</th>\n",
       "      <th>p401</th>\n",
       "      <th>pira</th>\n",
       "    </tr>\n",
       "    <tr>\n",
       "      <th>rownames</th>\n",
       "      <th></th>\n",
       "      <th></th>\n",
       "      <th></th>\n",
       "      <th></th>\n",
       "      <th></th>\n",
       "    </tr>\n",
       "  </thead>\n",
       "  <tbody>\n",
       "    <tr>\n",
       "      <th>1</th>\n",
       "      <td>0.0</td>\n",
       "      <td>6765.0</td>\n",
       "      <td>0</td>\n",
       "      <td>0</td>\n",
       "      <td>0</td>\n",
       "    </tr>\n",
       "    <tr>\n",
       "      <th>2</th>\n",
       "      <td>1015.0</td>\n",
       "      <td>28452.0</td>\n",
       "      <td>0</td>\n",
       "      <td>0</td>\n",
       "      <td>0</td>\n",
       "    </tr>\n",
       "    <tr>\n",
       "      <th>3</th>\n",
       "      <td>-2000.0</td>\n",
       "      <td>3300.0</td>\n",
       "      <td>0</td>\n",
       "      <td>0</td>\n",
       "      <td>0</td>\n",
       "    </tr>\n",
       "    <tr>\n",
       "      <th>4</th>\n",
       "      <td>15000.0</td>\n",
       "      <td>52590.0</td>\n",
       "      <td>0</td>\n",
       "      <td>0</td>\n",
       "      <td>0</td>\n",
       "    </tr>\n",
       "    <tr>\n",
       "      <th>5</th>\n",
       "      <td>0.0</td>\n",
       "      <td>21804.0</td>\n",
       "      <td>0</td>\n",
       "      <td>0</td>\n",
       "      <td>0</td>\n",
       "    </tr>\n",
       "  </tbody>\n",
       "</table>\n",
       "</div>"
      ],
      "text/plain": [
       "          net_tfa      inc  e401  p401  pira\n",
       "rownames                                    \n",
       "1             0.0   6765.0     0     0     0\n",
       "2          1015.0  28452.0     0     0     0\n",
       "3         -2000.0   3300.0     0     0     0\n",
       "4         15000.0  52590.0     0     0     0\n",
       "5             0.0  21804.0     0     0     0"
      ]
     },
     "execution_count": 19,
     "metadata": {},
     "output_type": "execute_result"
    }
   ],
   "source": [
    "fin_data = load_rdata(r\"C:\\Users\\philh\\Projects\\One\\401K\\data\\sipp1991.Rdata\")\n",
    "df = list(fin_data.values())[0].drop([\"nifa\", \"tw\",\"age\",\"fsize\",\"educ\",\"db\",\"marr\",\"twoearn\",\"hown\"], axis=1)\n",
    "df.head()"
   ]
  },
  {
   "cell_type": "code",
   "execution_count": 22,
   "id": "aa43a9d4",
   "metadata": {},
   "outputs": [
    {
     "name": "stdout",
     "output_type": "stream",
     "text": [
      "            net_tfa            inc         e401         p401         pira\n",
      "count  9.915000e+03    9915.000000  9915.000000  9915.000000  9915.000000\n",
      "mean   1.805153e+04   37200.623197     0.371357     0.261624     0.242158\n",
      "std    6.352250e+04   24774.288006     0.483192     0.439541     0.428411\n",
      "min   -5.023020e+05   -2652.000000     0.000000     0.000000     0.000000\n",
      "25%   -5.000000e+02   19413.000000     0.000000     0.000000     0.000000\n",
      "50%    1.499000e+03   31476.000000     0.000000     0.000000     0.000000\n",
      "75%    1.652450e+04   48583.500000     1.000000     1.000000     0.000000\n",
      "max    1.536798e+06  242124.000000     1.000000     1.000000     1.000000\n",
      "783 7321\n"
     ]
    }
   ],
   "source": [
    "#Statistics\n",
    "print(df.describe())\n",
    "print(sum(df[\"net_tfa\"]==0), sum(df[\"p401\"]==0))\n"
   ]
  }
 ],
 "metadata": {
  "kernelspec": {
   "display_name": ".conda",
   "language": "python",
   "name": "python3"
  },
  "language_info": {
   "codemirror_mode": {
    "name": "ipython",
    "version": 3
   },
   "file_extension": ".py",
   "mimetype": "text/x-python",
   "name": "python",
   "nbconvert_exporter": "python",
   "pygments_lexer": "ipython3",
   "version": "3.8.20"
  }
 },
 "nbformat": 4,
 "nbformat_minor": 5
}
