{
 "cells": [
  {
   "attachments": {},
   "cell_type": "markdown",
   "id": "3ff75bb7-f70f-4a78-9d7b-ed388eb8587f",
   "metadata": {},
   "source": [
    "#### SIPP1991 401K data\n",
    "\n",
    "#### logs\n",
    "\n",
    "5/15/2024 WL: template provided. TODO: write a brief intro to the data discussing the background, and the meaning of the variables; do a bit data summary and regression along the similar lines of ldw data.\n"
   ]
  },
  {
   "cell_type": "markdown",
   "id": "452400c4",
   "metadata": {},
   "source": [
    "Data source: SIPP 1991 (Abadie, 2003), pages 231-263  \n",
    "This paper investigates the effect of 401(k) programs on savings. To combat selection bias, they use a new statistical method that accounts for individual differences in benefit from 401(k), works with continuous outcomes (like amount saved) and avoids strong assumptions on variable relationships.   \n",
    "The variables in the data set include:\n",
    "\\begin{align*}\n",
    "%\\begin{array}{ll}\n",
    "\\hline \\text { Variable } & \\quad \\text { Description } \\\\\n",
    "\\hline \\text { net tfa } &\\quad  \\text { Net total financial assets } \\\\\n",
    "\\text { e401 } &\\quad  \\text { = 1 if employers offers 401(k) } \\\\\n",
    "\\text { p401 } &\\quad  \\text { = 1 if the employee participates 401(k) } \\\\\n",
    "\\text { age } & \\quad \\text { age } \\\\\n",
    "\\text { inc } &\\quad  \\text { income } \\\\\n",
    "\\text { fsize } &\\quad  \\text { family size } \\\\\n",
    "\\text { educ } &\\quad  \\text { years of education }\\\\\n",
    "\\text { db } &\\quad  \\text { = 1 if indivudual has defined benefit pension } \\\\\n",
    "\\text { marr } &\\quad \\text { = 1 if married } \\\\\n",
    "\\text { twoearn } &\\quad \\text { = 1 if two-earner household } \\\\\n",
    "\\text { pira } &\\quad \\text { = 1 if individual participates in IRA } \\\\\n",
    "\\text { hown } &\\quad \\text { = 1 if home owner } \\\\\n",
    "\\hline\n",
    "%\\end{array}\n",
    "\\end{align*}\n",
    "\n",
    "The data consist of 9275 observations from the Survey of Income and Program Participation (SIPP) of 1991. It is restricted to households of persons aged 25-64, where at least one individual is employed and no persns are self-employed. Additionally, family income ranges beteen $10,000 - $200,000."
   ]
  },
  {
   "cell_type": "code",
   "execution_count": 2,
   "id": "3b4a2014-452a-4b9c-8193-56d2be8f0fb8",
   "metadata": {
    "tags": []
   },
   "outputs": [
    {
     "name": "stdout",
     "output_type": "stream",
     "text": [
      "Current working directory: c:\\Users\\I1000928\\Projects\\Personal-Projects\\401K\n"
     ]
    }
   ],
   "source": [
    "import io\n",
    "import os\n",
    "import numpy as np\n",
    "import matplotlib.pyplot as plt\n",
    "import pandas as pd\n",
    "import requests\n",
    "from data_process import load_rdata\n",
    "\n",
    "# Print the current working directory\n",
    "print(\"Current working directory: {0}\".format(os.getcwd()))"
   ]
  },
  {
   "cell_type": "code",
   "execution_count": 15,
   "id": "c11ecefc",
   "metadata": {},
   "outputs": [
    {
     "data": {
      "application/vnd.microsoft.datawrangler.viewer.v0+json": {
       "columns": [
        {
         "name": "rownames",
         "rawType": "object",
         "type": "string"
        },
        {
         "name": "nifa",
         "rawType": "float64",
         "type": "float"
        },
        {
         "name": "net_tfa",
         "rawType": "float64",
         "type": "float"
        },
        {
         "name": "tw",
         "rawType": "float64",
         "type": "float"
        },
        {
         "name": "age",
         "rawType": "int32",
         "type": "integer"
        },
        {
         "name": "inc",
         "rawType": "float64",
         "type": "float"
        },
        {
         "name": "fsize",
         "rawType": "int32",
         "type": "integer"
        },
        {
         "name": "educ",
         "rawType": "int32",
         "type": "integer"
        },
        {
         "name": "db",
         "rawType": "int32",
         "type": "integer"
        },
        {
         "name": "marr",
         "rawType": "int32",
         "type": "integer"
        },
        {
         "name": "twoearn",
         "rawType": "int32",
         "type": "integer"
        },
        {
         "name": "e401",
         "rawType": "int32",
         "type": "integer"
        },
        {
         "name": "p401",
         "rawType": "int32",
         "type": "integer"
        },
        {
         "name": "pira",
         "rawType": "int32",
         "type": "integer"
        },
        {
         "name": "hown",
         "rawType": "int32",
         "type": "integer"
        }
       ],
       "ref": "5964c993-1d5c-45f8-9898-e49c14c4ca53",
       "rows": [
        [
         "1",
         "0.0",
         "0.0",
         "4500.0",
         "47",
         "6765.0",
         "2",
         "8",
         "0",
         "0",
         "0",
         "0",
         "0",
         "0",
         "1"
        ],
        [
         "2",
         "6215.0",
         "1015.0",
         "22390.0",
         "36",
         "28452.0",
         "1",
         "16",
         "0",
         "0",
         "0",
         "0",
         "0",
         "0",
         "1"
        ],
        [
         "3",
         "0.0",
         "-2000.0",
         "-2000.0",
         "37",
         "3300.0",
         "6",
         "12",
         "1",
         "0",
         "0",
         "0",
         "0",
         "0",
         "0"
        ],
        [
         "4",
         "15000.0",
         "15000.0",
         "155000.0",
         "58",
         "52590.0",
         "2",
         "16",
         "0",
         "1",
         "1",
         "0",
         "0",
         "0",
         "1"
        ],
        [
         "5",
         "0.0",
         "0.0",
         "58000.0",
         "32",
         "21804.0",
         "1",
         "11",
         "0",
         "0",
         "0",
         "0",
         "0",
         "0",
         "1"
        ]
       ],
       "shape": {
        "columns": 14,
        "rows": 5
       }
      },
      "text/html": [
       "<div>\n",
       "<style scoped>\n",
       "    .dataframe tbody tr th:only-of-type {\n",
       "        vertical-align: middle;\n",
       "    }\n",
       "\n",
       "    .dataframe tbody tr th {\n",
       "        vertical-align: top;\n",
       "    }\n",
       "\n",
       "    .dataframe thead th {\n",
       "        text-align: right;\n",
       "    }\n",
       "</style>\n",
       "<table border=\"1\" class=\"dataframe\">\n",
       "  <thead>\n",
       "    <tr style=\"text-align: right;\">\n",
       "      <th></th>\n",
       "      <th>nifa</th>\n",
       "      <th>net_tfa</th>\n",
       "      <th>tw</th>\n",
       "      <th>age</th>\n",
       "      <th>inc</th>\n",
       "      <th>fsize</th>\n",
       "      <th>educ</th>\n",
       "      <th>db</th>\n",
       "      <th>marr</th>\n",
       "      <th>twoearn</th>\n",
       "      <th>e401</th>\n",
       "      <th>p401</th>\n",
       "      <th>pira</th>\n",
       "      <th>hown</th>\n",
       "    </tr>\n",
       "    <tr>\n",
       "      <th>rownames</th>\n",
       "      <th></th>\n",
       "      <th></th>\n",
       "      <th></th>\n",
       "      <th></th>\n",
       "      <th></th>\n",
       "      <th></th>\n",
       "      <th></th>\n",
       "      <th></th>\n",
       "      <th></th>\n",
       "      <th></th>\n",
       "      <th></th>\n",
       "      <th></th>\n",
       "      <th></th>\n",
       "      <th></th>\n",
       "    </tr>\n",
       "  </thead>\n",
       "  <tbody>\n",
       "    <tr>\n",
       "      <th>1</th>\n",
       "      <td>0.0</td>\n",
       "      <td>0.0</td>\n",
       "      <td>4500.0</td>\n",
       "      <td>47</td>\n",
       "      <td>6765.0</td>\n",
       "      <td>2</td>\n",
       "      <td>8</td>\n",
       "      <td>0</td>\n",
       "      <td>0</td>\n",
       "      <td>0</td>\n",
       "      <td>0</td>\n",
       "      <td>0</td>\n",
       "      <td>0</td>\n",
       "      <td>1</td>\n",
       "    </tr>\n",
       "    <tr>\n",
       "      <th>2</th>\n",
       "      <td>6215.0</td>\n",
       "      <td>1015.0</td>\n",
       "      <td>22390.0</td>\n",
       "      <td>36</td>\n",
       "      <td>28452.0</td>\n",
       "      <td>1</td>\n",
       "      <td>16</td>\n",
       "      <td>0</td>\n",
       "      <td>0</td>\n",
       "      <td>0</td>\n",
       "      <td>0</td>\n",
       "      <td>0</td>\n",
       "      <td>0</td>\n",
       "      <td>1</td>\n",
       "    </tr>\n",
       "    <tr>\n",
       "      <th>3</th>\n",
       "      <td>0.0</td>\n",
       "      <td>-2000.0</td>\n",
       "      <td>-2000.0</td>\n",
       "      <td>37</td>\n",
       "      <td>3300.0</td>\n",
       "      <td>6</td>\n",
       "      <td>12</td>\n",
       "      <td>1</td>\n",
       "      <td>0</td>\n",
       "      <td>0</td>\n",
       "      <td>0</td>\n",
       "      <td>0</td>\n",
       "      <td>0</td>\n",
       "      <td>0</td>\n",
       "    </tr>\n",
       "    <tr>\n",
       "      <th>4</th>\n",
       "      <td>15000.0</td>\n",
       "      <td>15000.0</td>\n",
       "      <td>155000.0</td>\n",
       "      <td>58</td>\n",
       "      <td>52590.0</td>\n",
       "      <td>2</td>\n",
       "      <td>16</td>\n",
       "      <td>0</td>\n",
       "      <td>1</td>\n",
       "      <td>1</td>\n",
       "      <td>0</td>\n",
       "      <td>0</td>\n",
       "      <td>0</td>\n",
       "      <td>1</td>\n",
       "    </tr>\n",
       "    <tr>\n",
       "      <th>5</th>\n",
       "      <td>0.0</td>\n",
       "      <td>0.0</td>\n",
       "      <td>58000.0</td>\n",
       "      <td>32</td>\n",
       "      <td>21804.0</td>\n",
       "      <td>1</td>\n",
       "      <td>11</td>\n",
       "      <td>0</td>\n",
       "      <td>0</td>\n",
       "      <td>0</td>\n",
       "      <td>0</td>\n",
       "      <td>0</td>\n",
       "      <td>0</td>\n",
       "      <td>1</td>\n",
       "    </tr>\n",
       "  </tbody>\n",
       "</table>\n",
       "</div>"
      ],
      "text/plain": [
       "             nifa  net_tfa        tw  age      inc  fsize  educ  db  marr  \\\n",
       "rownames                                                                    \n",
       "1             0.0      0.0    4500.0   47   6765.0      2     8   0     0   \n",
       "2          6215.0   1015.0   22390.0   36  28452.0      1    16   0     0   \n",
       "3             0.0  -2000.0   -2000.0   37   3300.0      6    12   1     0   \n",
       "4         15000.0  15000.0  155000.0   58  52590.0      2    16   0     1   \n",
       "5             0.0      0.0   58000.0   32  21804.0      1    11   0     0   \n",
       "\n",
       "          twoearn  e401  p401  pira  hown  \n",
       "rownames                                   \n",
       "1               0     0     0     0     1  \n",
       "2               0     0     0     0     1  \n",
       "3               0     0     0     0     0  \n",
       "4               1     0     0     0     1  \n",
       "5               0     0     0     0     1  "
      ]
     },
     "execution_count": 15,
     "metadata": {},
     "output_type": "execute_result"
    }
   ],
   "source": [
    "fin_data = load_rdata(r\"C:\\Users\\I1000928\\Projects\\Personal-Projects\\401K\\data\\sipp1991.Rdata\")\n",
    "df = list(fin_data.values())[0]\n",
    "df.head()"
   ]
  },
  {
   "cell_type": "code",
   "execution_count": null,
   "id": "aa43a9d4",
   "metadata": {},
   "outputs": [
    {
     "name": "stdout",
     "output_type": "stream",
     "text": [
      "               nifa       net_tfa            tw          age            inc  \\\n",
      "count  9.915000e+03  9.915000e+03  9.915000e+03  9915.000000    9915.000000   \n",
      "mean   1.392864e+04  1.805153e+04  6.381685e+04    41.060212   37200.623197   \n",
      "std    5.490488e+04  6.352250e+04  1.115297e+05    10.344505   24774.288006   \n",
      "min    0.000000e+00 -5.023020e+05 -5.023020e+05    25.000000   -2652.000000   \n",
      "25%    2.000000e+02 -5.000000e+02  3.291500e+03    32.000000   19413.000000   \n",
      "50%    1.635000e+03  1.499000e+03  2.510000e+04    40.000000   31476.000000   \n",
      "75%    8.765500e+03  1.652450e+04  8.148750e+04    48.000000   48583.500000   \n",
      "max    1.430298e+06  1.536798e+06  2.029910e+06    64.000000  242124.000000   \n",
      "\n",
      "             fsize         educ           db         marr      twoearn  \\\n",
      "count  9915.000000  9915.000000  9915.000000  9915.000000  9915.000000   \n",
      "mean      2.865860    13.206253     0.271004     0.604841     0.380837   \n",
      "std       1.538937     2.810382     0.444500     0.488909     0.485617   \n",
      "min       1.000000     1.000000     0.000000     0.000000     0.000000   \n",
      "25%       2.000000    12.000000     0.000000     0.000000     0.000000   \n",
      "50%       3.000000    12.000000     0.000000     1.000000     0.000000   \n",
      "75%       4.000000    16.000000     1.000000     1.000000     1.000000   \n",
      "max      13.000000    18.000000     1.000000     1.000000     1.000000   \n",
      "\n",
      "              e401         p401         pira         hown  \n",
      "count  9915.000000  9915.000000  9915.000000  9915.000000  \n",
      "mean      0.371357     0.261624     0.242158     0.635199  \n",
      "std       0.483192     0.439541     0.428411     0.481399  \n",
      "min       0.000000     0.000000     0.000000     0.000000  \n",
      "25%       0.000000     0.000000     0.000000     0.000000  \n",
      "50%       0.000000     0.000000     0.000000     1.000000  \n",
      "75%       1.000000     1.000000     0.000000     1.000000  \n",
      "max       1.000000     1.000000     1.000000     1.000000  \n",
      "Number of people with zero net_tfa: 783\n",
      "Number of people not participating in 401k: 7321\n"
     ]
    }
   ],
   "source": [
    "#Data Summary\n",
    "\n",
    "print(df.describe())\n",
    "print(\"Number of people with zero net_tfa:\", sum(df[\"net_tfa\"] == 0))\n",
    "print(\"Number of people not participating in 401k:\", sum(df[\"p401\"] == 0))"
   ]
  }
 ],
 "metadata": {
  "kernelspec": {
   "display_name": "Python 3",
   "language": "python",
   "name": "python3"
  },
  "language_info": {
   "codemirror_mode": {
    "name": "ipython",
    "version": 3
   },
   "file_extension": ".py",
   "mimetype": "text/x-python",
   "name": "python",
   "nbconvert_exporter": "python",
   "pygments_lexer": "ipython3",
   "version": "3.8.20"
  }
 },
 "nbformat": 4,
 "nbformat_minor": 5
}
